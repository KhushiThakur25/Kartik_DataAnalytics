{
 "cells": [
  {
   "cell_type": "code",
   "execution_count": 4,
   "id": "724eab83-4342-476d-9b1d-ff8dfd423c8b",
   "metadata": {
    "tags": []
   },
   "outputs": [
    {
     "data": {
      "text/plain": [
       "['False',\n",
       " 'None',\n",
       " 'True',\n",
       " 'and',\n",
       " 'as',\n",
       " 'assert',\n",
       " 'async',\n",
       " 'await',\n",
       " 'break',\n",
       " 'class',\n",
       " 'continue',\n",
       " 'def',\n",
       " 'del',\n",
       " 'elif',\n",
       " 'else',\n",
       " 'except',\n",
       " 'finally',\n",
       " 'for',\n",
       " 'from',\n",
       " 'global',\n",
       " 'if',\n",
       " 'import',\n",
       " 'in',\n",
       " 'is',\n",
       " 'lambda',\n",
       " 'nonlocal',\n",
       " 'not',\n",
       " 'or',\n",
       " 'pass',\n",
       " 'raise',\n",
       " 'return',\n",
       " 'try',\n",
       " 'while',\n",
       " 'with',\n",
       " 'yield']"
      ]
     },
     "execution_count": 4,
     "metadata": {},
     "output_type": "execute_result"
    }
   ],
   "source": [
    "import keyword\n",
    "keyword.kwlist"
   ]
  },
  {
   "cell_type": "code",
   "execution_count": 8,
   "id": "29f798cc-ee10-4783-bfec-54c32de9dac3",
   "metadata": {},
   "outputs": [],
   "source": [
    "studentName = \"riya\""
   ]
  },
  {
   "cell_type": "code",
   "execution_count": 12,
   "id": "bcf4ef6b-b9a8-48f0-8769-9d5ccb3b8519",
   "metadata": {
    "tags": []
   },
   "outputs": [],
   "source": [
    "name1 = \"siya\""
   ]
  },
  {
   "cell_type": "code",
   "execution_count": 13,
   "id": "3721077b-dab5-4884-82c0-45866ec400ad",
   "metadata": {
    "tags": []
   },
   "outputs": [],
   "source": [
    "Name1 = \"ram\""
   ]
  },
  {
   "cell_type": "code",
   "execution_count": 17,
   "id": "b9685806-5b7d-411c-92d5-38c008d2febe",
   "metadata": {
    "tags": []
   },
   "outputs": [],
   "source": [
    "name_ = \"riya\""
   ]
  },
  {
   "cell_type": "code",
   "execution_count": 18,
   "id": "a7c237ac-d741-404c-a983-3b5274c417b7",
   "metadata": {
    "tags": []
   },
   "outputs": [],
   "source": [
    "st  = \"hello\""
   ]
  },
  {
   "cell_type": "code",
   "execution_count": 22,
   "id": "1ff2ec63-9b90-44a7-b78e-153373a926c2",
   "metadata": {
    "tags": []
   },
   "outputs": [],
   "source": [
    "st = \"uello\""
   ]
  },
  {
   "cell_type": "code",
   "execution_count": 23,
   "id": "a47b7204-ec22-483b-87f2-46b58c180bfa",
   "metadata": {
    "tags": []
   },
   "outputs": [
    {
     "data": {
      "text/plain": [
       "'uello'"
      ]
     },
     "execution_count": 23,
     "metadata": {},
     "output_type": "execute_result"
    }
   ],
   "source": [
    "st"
   ]
  },
  {
   "cell_type": "code",
   "execution_count": 24,
   "id": "3da3994c-d1c6-47cb-bc5f-763e052c78ec",
   "metadata": {
    "tags": []
   },
   "outputs": [],
   "source": [
    "n=56"
   ]
  },
  {
   "cell_type": "code",
   "execution_count": 27,
   "id": "c7f66693-bb63-434c-92a1-75c1deff876f",
   "metadata": {
    "tags": []
   },
   "outputs": [],
   "source": [
    "n=n+4"
   ]
  },
  {
   "cell_type": "code",
   "execution_count": 38,
   "id": "113bd793-a3d6-464d-b0ec-b79353348262",
   "metadata": {
    "tags": []
   },
   "outputs": [
    {
     "data": {
      "text/plain": [
       "68"
      ]
     },
     "execution_count": 38,
     "metadata": {},
     "output_type": "execute_result"
    }
   ],
   "source": [
    "n += 4\n",
    "n"
   ]
  },
  {
   "cell_type": "code",
   "execution_count": 29,
   "id": "5ed2e77c-99e5-4d07-9b0f-bb6e4e730dae",
   "metadata": {
    "tags": []
   },
   "outputs": [],
   "source": [
    "a = 56\n",
    "b = 3"
   ]
  },
  {
   "cell_type": "code",
   "execution_count": 30,
   "id": "0b902d3e-da2b-47fd-ba3e-d7bfb846945c",
   "metadata": {
    "tags": []
   },
   "outputs": [
    {
     "data": {
      "text/plain": [
       "59"
      ]
     },
     "execution_count": 30,
     "metadata": {},
     "output_type": "execute_result"
    }
   ],
   "source": [
    "a + b"
   ]
  },
  {
   "cell_type": "code",
   "execution_count": 31,
   "id": "3fb77d54-0ee8-4c93-9a47-15dabe24eac5",
   "metadata": {
    "tags": []
   },
   "outputs": [
    {
     "data": {
      "text/plain": [
       "53"
      ]
     },
     "execution_count": 31,
     "metadata": {},
     "output_type": "execute_result"
    }
   ],
   "source": [
    "a - b"
   ]
  },
  {
   "cell_type": "code",
   "execution_count": 32,
   "id": "e4e613b2-8066-48fd-8eaf-839f7c0c4938",
   "metadata": {
    "tags": []
   },
   "outputs": [
    {
     "data": {
      "text/plain": [
       "168"
      ]
     },
     "execution_count": 32,
     "metadata": {},
     "output_type": "execute_result"
    }
   ],
   "source": [
    "a * b"
   ]
  },
  {
   "cell_type": "code",
   "execution_count": 33,
   "id": "95f4cd91-abcd-4aa3-9a8c-18ce99375eaa",
   "metadata": {
    "tags": []
   },
   "outputs": [
    {
     "data": {
      "text/plain": [
       "18.666666666666668"
      ]
     },
     "execution_count": 33,
     "metadata": {},
     "output_type": "execute_result"
    }
   ],
   "source": [
    "a / b"
   ]
  },
  {
   "cell_type": "code",
   "execution_count": 34,
   "id": "614e825a-faf6-461b-afee-b03c2af1564e",
   "metadata": {
    "tags": []
   },
   "outputs": [
    {
     "data": {
      "text/plain": [
       "18"
      ]
     },
     "execution_count": 34,
     "metadata": {},
     "output_type": "execute_result"
    }
   ],
   "source": [
    "a // b"
   ]
  },
  {
   "cell_type": "code",
   "execution_count": 35,
   "id": "84874d7c-95dd-47e0-9939-0447cce80f34",
   "metadata": {
    "tags": []
   },
   "outputs": [
    {
     "data": {
      "text/plain": [
       "2"
      ]
     },
     "execution_count": 35,
     "metadata": {},
     "output_type": "execute_result"
    }
   ],
   "source": [
    "a % b"
   ]
  },
  {
   "cell_type": "code",
   "execution_count": 36,
   "id": "3ab96288-94e2-4064-ae53-675ed3cd1c73",
   "metadata": {
    "tags": []
   },
   "outputs": [
    {
     "data": {
      "text/plain": [
       "9"
      ]
     },
     "execution_count": 36,
     "metadata": {},
     "output_type": "execute_result"
    }
   ],
   "source": [
    "b ** 2"
   ]
  },
  {
   "cell_type": "code",
   "execution_count": 39,
   "id": "4f548144-0450-4428-9f41-53f24d7ee40a",
   "metadata": {
    "tags": []
   },
   "outputs": [],
   "source": [
    "n = 56"
   ]
  },
  {
   "cell_type": "code",
   "execution_count": 50,
   "id": "51569c8d-5c37-4353-b613-e7affc53f2bd",
   "metadata": {
    "tags": []
   },
   "outputs": [],
   "source": [
    "n += 4\n",
    "# n = n+4"
   ]
  },
  {
   "cell_type": "code",
   "execution_count": 49,
   "id": "f20268dd-2d74-47fa-a8b6-1a01f8f18d6f",
   "metadata": {
    "tags": []
   },
   "outputs": [
    {
     "data": {
      "text/plain": [
       "76"
      ]
     },
     "execution_count": 49,
     "metadata": {},
     "output_type": "execute_result"
    }
   ],
   "source": [
    "n"
   ]
  },
  {
   "cell_type": "code",
   "execution_count": 51,
   "id": "6243f6fe-d0f2-4b11-a299-6cbd4bbeecc1",
   "metadata": {
    "tags": []
   },
   "outputs": [
    {
     "name": "stdout",
     "output_type": "stream",
     "text": [
      "Hello world\n"
     ]
    }
   ],
   "source": [
    "#single line expression\n",
    "print(\"Hello world\")"
   ]
  },
  {
   "cell_type": "code",
   "execution_count": 54,
   "id": "23ab5976-cc55-4258-be9b-b2629fb431e6",
   "metadata": {
    "tags": []
   },
   "outputs": [
    {
     "name": "stdout",
     "output_type": "stream",
     "text": [
      "Twinkle, twinkle, little star,\n",
      "How I wonder what you are!\n",
      "Up above the world so high,\n",
      "Like a diamond in the sky.\n",
      "\n",
      "When the blazing sun is gone,\n",
      "When he nothing shines upon,\n",
      "Then you show your little light,\n",
      "Twinkle, twinkle, all the night.\n"
     ]
    }
   ],
   "source": [
    "# njhcbjfv\n",
    "# jnfcffikrjef\n",
    "# jnsjdnjdhuf\n",
    "\n",
    "\n",
    "'''\n",
    "jnbxujhc\n",
    "jbcjhfd\n",
    "ndcjihd'''\n",
    "\n",
    "print(\"\"\"Twinkle, twinkle, little star,\n",
    "How I wonder what you are!\n",
    "Up above the world so high,\n",
    "Like a diamond in the sky.\n",
    "\n",
    "When the blazing sun is gone,\n",
    "When he nothing shines upon,\n",
    "Then you show your little light,\n",
    "Twinkle, twinkle, all the night.\"\"\")"
   ]
  },
  {
   "cell_type": "code",
   "execution_count": 58,
   "id": "6ddae918-62a3-49fa-9426-63047eb0bd37",
   "metadata": {
    "tags": []
   },
   "outputs": [],
   "source": [
    "a = 23\n",
    "b = 50"
   ]
  },
  {
   "cell_type": "code",
   "execution_count": 71,
   "id": "d4e2de91-f689-45d4-b1db-777bd3e12788",
   "metadata": {
    "tags": []
   },
   "outputs": [
    {
     "name": "stdout",
     "output_type": "stream",
     "text": [
      "sum of a and b is:->73\n"
     ]
    }
   ],
   "source": [
    "print(\"sum of a and b is:\",a+b,sep = \"->\")"
   ]
  },
  {
   "cell_type": "code",
   "execution_count": 61,
   "id": "74c3278d-f853-4eaa-b4e5-992e9d435967",
   "metadata": {
    "tags": []
   },
   "outputs": [
    {
     "name": "stdout",
     "output_type": "stream",
     "text": [
      "sum of 23 and 50 is : 73\n"
     ]
    }
   ],
   "source": [
    "print(\"sum of\",a,\"and\",b,\"is :\",a+b)"
   ]
  },
  {
   "cell_type": "code",
   "execution_count": 62,
   "id": "749354d6-4443-4ea8-8669-59003d948dad",
   "metadata": {
    "tags": []
   },
   "outputs": [
    {
     "name": "stdout",
     "output_type": "stream",
     "text": [
      "23 50\n"
     ]
    }
   ],
   "source": [
    "print(a,b)"
   ]
  },
  {
   "cell_type": "code",
   "execution_count": 74,
   "id": "8379aa49-d204-4307-9637-e2b9e63b4e17",
   "metadata": {
    "tags": []
   },
   "outputs": [
    {
     "name": "stdout",
     "output_type": "stream",
     "text": [
      "hello student.This is python.\n"
     ]
    }
   ],
   "source": [
    "print(\"hello student.\",end = \"\")\n",
    "print(\"This is python.\")"
   ]
  },
  {
   "cell_type": "code",
   "execution_count": 75,
   "id": "08bbf275-a88c-4958-a882-3ac0706c7cae",
   "metadata": {
    "tags": []
   },
   "outputs": [
    {
     "name": "stdout",
     "output_type": "stream",
     "text": [
      "sum of 23 and 50 is 73\n"
     ]
    }
   ],
   "source": [
    "print(\"sum of %d and %d is %d\"%(a,b,a+b))"
   ]
  },
  {
   "cell_type": "code",
   "execution_count": 76,
   "id": "9ff063a1-0b96-4043-9671-926720bc252c",
   "metadata": {
    "tags": []
   },
   "outputs": [
    {
     "name": "stdout",
     "output_type": "stream",
     "text": [
      "div of 23 and 50 is 0\n"
     ]
    }
   ],
   "source": [
    "print(\"div of %d and %d is %d\"%(a,b,a/b))"
   ]
  },
  {
   "cell_type": "code",
   "execution_count": 77,
   "id": "f21aa8bd-0023-4c2a-8257-b06228d3ff01",
   "metadata": {
    "tags": []
   },
   "outputs": [
    {
     "data": {
      "text/plain": [
       "0.46"
      ]
     },
     "execution_count": 77,
     "metadata": {},
     "output_type": "execute_result"
    }
   ],
   "source": [
    "23/50"
   ]
  },
  {
   "cell_type": "code",
   "execution_count": 79,
   "id": "039fa75a-8421-4a85-8ced-592a4b7a1cfa",
   "metadata": {
    "tags": []
   },
   "outputs": [
    {
     "name": "stdout",
     "output_type": "stream",
     "text": [
      "div of 23 and 50 is 0.46\n"
     ]
    }
   ],
   "source": [
    "print(\"div of {} and {} is {}\".format(a,b,a/b))"
   ]
  },
  {
   "cell_type": "code",
   "execution_count": 81,
   "id": "6a6fa4a1-ed66-4faf-9981-dc47cd04b39d",
   "metadata": {
    "tags": []
   },
   "outputs": [
    {
     "name": "stdout",
     "output_type": "stream",
     "text": [
      "div of 23 and 50 is 0.46\n"
     ]
    }
   ],
   "source": [
    "print(f\"div of {a} and {b} is {a/b}\")"
   ]
  },
  {
   "cell_type": "code",
   "execution_count": 7,
   "id": "65bdf711-78aa-4614-92a8-dac4713ba5de",
   "metadata": {
    "tags": []
   },
   "outputs": [
    {
     "name": "stdin",
     "output_type": "stream",
     "text": [
      "Enter the value.. 55\n"
     ]
    }
   ],
   "source": [
    "a = int(input(\"Enter the value..\"))"
   ]
  },
  {
   "cell_type": "code",
   "execution_count": 8,
   "id": "73bc73c8-39fd-4557-821a-1f7eeb04f375",
   "metadata": {
    "tags": []
   },
   "outputs": [
    {
     "name": "stdin",
     "output_type": "stream",
     "text": [
      "Enter the value.. 22\n"
     ]
    }
   ],
   "source": [
    "b = int(input(\"Enter the value..\"))"
   ]
  },
  {
   "cell_type": "code",
   "execution_count": 9,
   "id": "dec10882-36ef-428b-9725-21060dfcfa19",
   "metadata": {
    "tags": []
   },
   "outputs": [
    {
     "data": {
      "text/plain": [
       "77"
      ]
     },
     "execution_count": 9,
     "metadata": {},
     "output_type": "execute_result"
    }
   ],
   "source": [
    "a + b"
   ]
  },
  {
   "cell_type": "code",
   "execution_count": 6,
   "id": "a9c32d91-ab8f-483e-ae10-a020129fe70a",
   "metadata": {
    "tags": []
   },
   "outputs": [
    {
     "data": {
      "text/plain": [
       "'helloworld'"
      ]
     },
     "execution_count": 6,
     "metadata": {},
     "output_type": "execute_result"
    }
   ],
   "source": [
    "\"hello\" + \"world\""
   ]
  },
  {
   "cell_type": "code",
   "execution_count": null,
   "id": "c1f983e8-3450-4c96-865a-f8584a31022c",
   "metadata": {},
   "outputs": [],
   "source": []
  }
 ],
 "metadata": {
  "kernelspec": {
   "display_name": "Python 3 (ipykernel)",
   "language": "python",
   "name": "python3"
  },
  "language_info": {
   "codemirror_mode": {
    "name": "ipython",
    "version": 3
   },
   "file_extension": ".py",
   "mimetype": "text/x-python",
   "name": "python",
   "nbconvert_exporter": "python",
   "pygments_lexer": "ipython3",
   "version": "3.11.5"
  }
 },
 "nbformat": 4,
 "nbformat_minor": 5
}
