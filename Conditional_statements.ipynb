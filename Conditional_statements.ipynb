{
 "cells": [
  {
   "cell_type": "code",
   "execution_count": null,
   "id": "7f302340-e43a-4824-a2a2-d1050b4bcd8b",
   "metadata": {},
   "outputs": [],
   "source": [
    "# 1. if\n",
    "# 2. if-else\n",
    "# 3. if-elif\n",
    "# 4. if-elif ladder\n",
    "# 5. nested if-else"
   ]
  },
  {
   "cell_type": "code",
   "execution_count": 14,
   "id": "0dd7c9f3-7ca8-4fa5-a7dd-f5c0bd4edc47",
   "metadata": {
    "tags": []
   },
   "outputs": [],
   "source": [
    "n = 523\n",
    "\n",
    "if n%2 == 0:\n",
    "    print(\"even\")\n",
    "else:\n",
    "    print(\"odd\")"
   ]
  },
  {
   "cell_type": "code",
   "execution_count": 7,
   "id": "b87c2e84-19cc-4b3c-8636-8ee911d2f390",
   "metadata": {
    "tags": []
   },
   "outputs": [
    {
     "data": {
      "text/plain": [
       "0"
      ]
     },
     "execution_count": 7,
     "metadata": {},
     "output_type": "execute_result"
    }
   ],
   "source": [
    "8%2"
   ]
  },
  {
   "cell_type": "code",
   "execution_count": 8,
   "id": "dabc974d-cd0c-40be-a6ed-7f30eff068a3",
   "metadata": {
    "tags": []
   },
   "outputs": [
    {
     "data": {
      "text/plain": [
       "1"
      ]
     },
     "execution_count": 8,
     "metadata": {},
     "output_type": "execute_result"
    }
   ],
   "source": [
    "5%2"
   ]
  },
  {
   "cell_type": "code",
   "execution_count": 9,
   "id": "934332aa-5a91-4bdf-994f-cd6bae94ea4a",
   "metadata": {
    "tags": []
   },
   "outputs": [
    {
     "data": {
      "text/plain": [
       "1"
      ]
     },
     "execution_count": 9,
     "metadata": {},
     "output_type": "execute_result"
    }
   ],
   "source": [
    "11%2"
   ]
  },
  {
   "cell_type": "code",
   "execution_count": 10,
   "id": "24986d7a-4f38-4b69-a7ca-c256ed3ced9e",
   "metadata": {
    "tags": []
   },
   "outputs": [
    {
     "data": {
      "text/plain": [
       "0"
      ]
     },
     "execution_count": 10,
     "metadata": {},
     "output_type": "execute_result"
    }
   ],
   "source": [
    "10%2"
   ]
  },
  {
   "cell_type": "code",
   "execution_count": null,
   "id": "d454ed3d-13e9-42be-9b4e-46ed95e3dcb2",
   "metadata": {},
   "outputs": [],
   "source": [
    "input a , b , c"
   ]
  },
  {
   "cell_type": "code",
   "execution_count": 17,
   "id": "d6b17326-0a79-41f0-b58d-2eeba5dcf168",
   "metadata": {
    "tags": []
   },
   "outputs": [],
   "source": [
    "a , b, c = 56,56,14"
   ]
  },
  {
   "cell_type": "code",
   "execution_count": 18,
   "id": "fec5ff59-012b-4507-98a1-4286dd311928",
   "metadata": {
    "tags": []
   },
   "outputs": [
    {
     "name": "stdout",
     "output_type": "stream",
     "text": [
      "No one is greatest..\n"
     ]
    }
   ],
   "source": [
    "if a > b and a > c:\n",
    "    print(\"a is greatest..\")\n",
    "elif b > a and b > c:\n",
    "    print(\"b is greatest..\")\n",
    "elif c > a and c > b:\n",
    "    print(\"c is greatest..\")\n",
    "else:\n",
    "    print(\"No one is greatest..\")"
   ]
  },
  {
   "cell_type": "code",
   "execution_count": 21,
   "id": "17969e02-4545-4fe3-b2dc-296b928ab0a2",
   "metadata": {
    "tags": []
   },
   "outputs": [
    {
     "name": "stdin",
     "output_type": "stream",
     "text": [
      "Enter the age.. 21\n",
      "Enter your gender.. male\n"
     ]
    },
    {
     "name": "stdout",
     "output_type": "stream",
     "text": [
      "Welcome to gate no1..\n",
      "Welcome to party..\n"
     ]
    }
   ],
   "source": [
    "# if a != b and b != c and a != c:\n",
    "\n",
    "age = int(input(\"Enter the age..\"))\n",
    "gender = input(\"Enter your gender..\")\n",
    "\n",
    "if age >= 18:\n",
    "    print(\"Welcome to gate no1..\")\n",
    "    if gender == \"male\":\n",
    "        print(\"Welcome to party..\")\n",
    "    else:\n",
    "        print(\"exit\")\n",
    "else:\n",
    "    print(\"exit\")"
   ]
  },
  {
   "cell_type": "code",
   "execution_count": 24,
   "id": "723bc390-38d8-45ff-88b5-4990087ba701",
   "metadata": {
    "tags": []
   },
   "outputs": [],
   "source": [
    "bs = 8000\n",
    "hra = 0.15 * 8000\n",
    "da = 0.8 * 8000\n",
    "gross_salary = bs + hra + da"
   ]
  },
  {
   "cell_type": "code",
   "execution_count": 25,
   "id": "6d2f6661-5e8a-4cd8-9db7-0ca5fb81f132",
   "metadata": {
    "tags": []
   },
   "outputs": [
    {
     "data": {
      "text/plain": [
       "16000.0"
      ]
     },
     "execution_count": 25,
     "metadata": {},
     "output_type": "execute_result"
    }
   ],
   "source": [
    "gross_salary"
   ]
  },
  {
   "cell_type": "code",
   "execution_count": 26,
   "id": "4063bfde-0e9c-4d82-af15-fe5bddbdf940",
   "metadata": {
    "tags": []
   },
   "outputs": [
    {
     "data": {
      "text/plain": [
       "0.15"
      ]
     },
     "execution_count": 26,
     "metadata": {},
     "output_type": "execute_result"
    }
   ],
   "source": [
    "15/100"
   ]
  },
  {
   "cell_type": "code",
   "execution_count": 2,
   "id": "75eaf2b5-5084-431f-b29b-0e0aeaed9f4c",
   "metadata": {},
   "outputs": [
    {
     "name": "stdout",
     "output_type": "stream",
     "text": [
      "Enter your marks of: \n"
     ]
    },
    {
     "name": "stdin",
     "output_type": "stream",
     "text": [
      "Physics ->  89\n",
      "Chemistry ->  94\n",
      "Maths ->  91\n",
      "English ->  85\n",
      "Computer ->  91\n"
     ]
    },
    {
     "name": "stdout",
     "output_type": "stream",
     "text": [
      "Your percentage is :  90.0\n",
      "Your Grade is:  A\n"
     ]
    }
   ],
   "source": [
    "print(\"Enter your marks of: \")\n",
    "py = float(input(\"Physics -> \"))\n",
    "ch = float(input(\"Chemistry -> \"))\n",
    "mt = float(input(\"Maths -> \"))\n",
    "en = float(input(\"English -> \"))\n",
    "cm = float(input(\"Computer -> \"))\n",
    "\n",
    "total = py + ch + mt + en + cm\n",
    "percentage = total/5\n",
    "print(\"Your percentage is : \",percentage)\n",
    "print(\"Your Grade is: \",end = \" \")\n",
    "if percentage >= 90:\n",
    "    print('A')\n",
    "elif percentage >= 80:\n",
    "    print('B')\n",
    "elif percentage >= 70:\n",
    "    print('C')\n",
    "elif percentage >= 60:\n",
    "    print('D')\n",
    "elif percentage >= 40:\n",
    "    print('E')\n",
    "else:\n",
    "    print(\"F - Fail\")"
   ]
  },
  {
   "cell_type": "code",
   "execution_count": 4,
   "id": "bfe54cab-bae3-4417-8b76-76ff0be5a91c",
   "metadata": {
    "tags": []
   },
   "outputs": [
    {
     "name": "stdin",
     "output_type": "stream",
     "text": [
      "Enter your basic salary 50000\n"
     ]
    },
    {
     "name": "stdout",
     "output_type": "stream",
     "text": [
      "Your gross salary is:  112500.0\n"
     ]
    }
   ],
   "source": [
    "bs = float(input(\"Enter your basic salary\"))\n",
    "\n",
    "if bs <= 10000:\n",
    "    HRA = bs * (20/100)\n",
    "    DA = bs * (80/100)\n",
    "elif bs <= 20000:\n",
    "    HRA = bs * (25/100)\n",
    "    DA = bs * (90/100)\n",
    "elif bs > 20000:\n",
    "    HRA = bs * (30/100)\n",
    "    DA = bs * (95/100)\n",
    "else:\n",
    "    print(\"Invalid input...\")\n",
    "    \n",
    "print(\"Your gross salary is: \",bs + HRA + DA)"
   ]
  },
  {
   "cell_type": "code",
   "execution_count": null,
   "id": "b7cf4e11-c92d-4051-8b80-4aa9ca35710e",
   "metadata": {},
   "outputs": [],
   "source": []
  }
 ],
 "metadata": {
  "kernelspec": {
   "display_name": "Python 3 (ipykernel)",
   "language": "python",
   "name": "python3"
  },
  "language_info": {
   "codemirror_mode": {
    "name": "ipython",
    "version": 3
   },
   "file_extension": ".py",
   "mimetype": "text/x-python",
   "name": "python",
   "nbconvert_exporter": "python",
   "pygments_lexer": "ipython3",
   "version": "3.11.5"
  }
 },
 "nbformat": 4,
 "nbformat_minor": 5
}
