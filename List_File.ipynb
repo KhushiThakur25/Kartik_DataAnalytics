{
 "cells": [
  {
   "cell_type": "code",
   "execution_count": 1,
   "id": "2148e309-63a6-4afc-84b1-3a8bd6ed605a",
   "metadata": {
    "tags": []
   },
   "outputs": [],
   "source": [
    "li = [12,51,32,14,95,5,6,65,23]"
   ]
  },
  {
   "cell_type": "code",
   "execution_count": 2,
   "id": "26181956-e81b-4b11-b9c5-98129fe991eb",
   "metadata": {
    "tags": []
   },
   "outputs": [],
   "source": [
    "li.append(32)"
   ]
  },
  {
   "cell_type": "code",
   "execution_count": 3,
   "id": "c035880e-6f77-4c13-8c79-7e837c24c974",
   "metadata": {
    "tags": []
   },
   "outputs": [
    {
     "data": {
      "text/plain": [
       "[12, 51, 32, 14, 95, 5, 6, 65, 23, 32]"
      ]
     },
     "execution_count": 3,
     "metadata": {},
     "output_type": "execute_result"
    }
   ],
   "source": [
    "li"
   ]
  },
  {
   "cell_type": "code",
   "execution_count": 4,
   "id": "4936838b-7769-4bf1-8e5b-31e842eeb305",
   "metadata": {
    "tags": []
   },
   "outputs": [
    {
     "data": {
      "text/plain": [
       "10"
      ]
     },
     "execution_count": 4,
     "metadata": {},
     "output_type": "execute_result"
    }
   ],
   "source": [
    "len(li)"
   ]
  },
  {
   "cell_type": "code",
   "execution_count": 5,
   "id": "38c4b627-d3b2-45e3-8bf3-9aa6af06c2b5",
   "metadata": {
    "tags": []
   },
   "outputs": [
    {
     "data": {
      "text/plain": [
       "2"
      ]
     },
     "execution_count": 5,
     "metadata": {},
     "output_type": "execute_result"
    }
   ],
   "source": [
    "li.count(32\n",
    "        )"
   ]
  },
  {
   "cell_type": "code",
   "execution_count": 6,
   "id": "4324bc63-7afb-46c0-ab2e-c18765e6fbcd",
   "metadata": {
    "tags": []
   },
   "outputs": [
    {
     "data": {
      "text/plain": [
       "12"
      ]
     },
     "execution_count": 6,
     "metadata": {},
     "output_type": "execute_result"
    }
   ],
   "source": [
    "li[0\n",
    "  ]"
   ]
  },
  {
   "cell_type": "code",
   "execution_count": 7,
   "id": "20f18afb-dd8c-48b5-ae45-9fcfb2e90a70",
   "metadata": {
    "tags": []
   },
   "outputs": [],
   "source": [
    "li[0] = 100"
   ]
  },
  {
   "cell_type": "code",
   "execution_count": 8,
   "id": "a9cd3b7b-2847-4597-93d7-7abc40659ace",
   "metadata": {
    "tags": []
   },
   "outputs": [
    {
     "data": {
      "text/plain": [
       "[100, 51, 32, 14, 95, 5, 6, 65, 23, 32]"
      ]
     },
     "execution_count": 8,
     "metadata": {},
     "output_type": "execute_result"
    }
   ],
   "source": [
    "li"
   ]
  },
  {
   "cell_type": "code",
   "execution_count": 9,
   "id": "d7f9f5aa-af51-4bc8-91e7-191903e80bc4",
   "metadata": {
    "tags": []
   },
   "outputs": [],
   "source": [
    "li.insert(1,52)"
   ]
  },
  {
   "cell_type": "code",
   "execution_count": 10,
   "id": "28ee5303-d466-4567-b64a-6c0376f83e9f",
   "metadata": {
    "tags": []
   },
   "outputs": [
    {
     "data": {
      "text/plain": [
       "[100, 52, 51, 32, 14, 95, 5, 6, 65, 23, 32]"
      ]
     },
     "execution_count": 10,
     "metadata": {},
     "output_type": "execute_result"
    }
   ],
   "source": [
    "li"
   ]
  },
  {
   "cell_type": "code",
   "execution_count": 11,
   "id": "8e7d8bd5-e33e-431e-9215-6bf3b221c3a8",
   "metadata": {
    "tags": []
   },
   "outputs": [],
   "source": [
    "arr = [56,41,21,32]"
   ]
  },
  {
   "cell_type": "code",
   "execution_count": 12,
   "id": "14f62a62-d33c-4aaf-9980-c85f7e0ada33",
   "metadata": {
    "tags": []
   },
   "outputs": [],
   "source": [
    "li.append(arr)"
   ]
  },
  {
   "cell_type": "code",
   "execution_count": 13,
   "id": "cc763618-bf32-4da9-9b59-7aceda099943",
   "metadata": {
    "tags": []
   },
   "outputs": [
    {
     "data": {
      "text/plain": [
       "[100, 52, 51, 32, 14, 95, 5, 6, 65, 23, 32, [56, 41, 21, 32]]"
      ]
     },
     "execution_count": 13,
     "metadata": {},
     "output_type": "execute_result"
    }
   ],
   "source": [
    "li"
   ]
  },
  {
   "cell_type": "code",
   "execution_count": 14,
   "id": "53fb5b40-7f07-46b2-bf0b-04034b62bc73",
   "metadata": {
    "tags": []
   },
   "outputs": [],
   "source": [
    "li.extend(arr)"
   ]
  },
  {
   "cell_type": "code",
   "execution_count": 15,
   "id": "32af2a69-2496-4194-9330-8e3d8f5e6711",
   "metadata": {
    "tags": []
   },
   "outputs": [
    {
     "data": {
      "text/plain": [
       "[100, 52, 51, 32, 14, 95, 5, 6, 65, 23, 32, [56, 41, 21, 32], 56, 41, 21, 32]"
      ]
     },
     "execution_count": 15,
     "metadata": {},
     "output_type": "execute_result"
    }
   ],
   "source": [
    "li"
   ]
  },
  {
   "cell_type": "code",
   "execution_count": 16,
   "id": "25408d83-ee10-46f7-84aa-f432cbe8e3ed",
   "metadata": {
    "tags": []
   },
   "outputs": [],
   "source": [
    "li.remove( [56, 41, 21, 32])"
   ]
  },
  {
   "cell_type": "code",
   "execution_count": 17,
   "id": "0ad28c75-cae6-4520-8519-0302966602e6",
   "metadata": {
    "tags": []
   },
   "outputs": [
    {
     "data": {
      "text/plain": [
       "[100, 52, 51, 32, 14, 95, 5, 6, 65, 23, 32, 56, 41, 21, 32]"
      ]
     },
     "execution_count": 17,
     "metadata": {},
     "output_type": "execute_result"
    }
   ],
   "source": [
    "li"
   ]
  },
  {
   "cell_type": "code",
   "execution_count": 18,
   "id": "51395310-a3d3-4d84-9cac-3e6ebc13c795",
   "metadata": {
    "tags": []
   },
   "outputs": [
    {
     "data": {
      "text/plain": [
       "32"
      ]
     },
     "execution_count": 18,
     "metadata": {},
     "output_type": "execute_result"
    }
   ],
   "source": [
    "li.pop()"
   ]
  },
  {
   "cell_type": "code",
   "execution_count": 19,
   "id": "a10a6925-d02b-4777-a236-0d493799fa31",
   "metadata": {
    "tags": []
   },
   "outputs": [
    {
     "data": {
      "text/plain": [
       "100"
      ]
     },
     "execution_count": 19,
     "metadata": {},
     "output_type": "execute_result"
    }
   ],
   "source": [
    "max(li)"
   ]
  },
  {
   "cell_type": "code",
   "execution_count": 20,
   "id": "f0513db7-9975-4d36-9283-fec0c029aea6",
   "metadata": {
    "tags": []
   },
   "outputs": [
    {
     "data": {
      "text/plain": [
       "5"
      ]
     },
     "execution_count": 20,
     "metadata": {},
     "output_type": "execute_result"
    }
   ],
   "source": [
    "min(li)"
   ]
  },
  {
   "cell_type": "code",
   "execution_count": 21,
   "id": "e55b4af1-e401-4687-bebb-db85bb2d2182",
   "metadata": {
    "tags": []
   },
   "outputs": [],
   "source": [
    "li.sort()"
   ]
  },
  {
   "cell_type": "code",
   "execution_count": 22,
   "id": "4c5dfd19-c8a6-4db0-a2a3-2e063e4495a1",
   "metadata": {
    "tags": []
   },
   "outputs": [
    {
     "data": {
      "text/plain": [
       "[5, 6, 14, 21, 23, 32, 32, 41, 51, 52, 56, 65, 95, 100]"
      ]
     },
     "execution_count": 22,
     "metadata": {},
     "output_type": "execute_result"
    }
   ],
   "source": [
    "li"
   ]
  },
  {
   "cell_type": "code",
   "execution_count": 23,
   "id": "7c810dba-1c23-4860-862d-df77bffb6e87",
   "metadata": {
    "tags": []
   },
   "outputs": [],
   "source": [
    "li.reverse()"
   ]
  },
  {
   "cell_type": "code",
   "execution_count": 24,
   "id": "f5aa8c96-32a0-4ee5-a1fe-e30e5a0ca71c",
   "metadata": {
    "tags": []
   },
   "outputs": [
    {
     "data": {
      "text/plain": [
       "[100, 95, 65, 56, 52, 51, 41, 32, 32, 23, 21, 14, 6, 5]"
      ]
     },
     "execution_count": 24,
     "metadata": {},
     "output_type": "execute_result"
    }
   ],
   "source": [
    "li"
   ]
  },
  {
   "cell_type": "code",
   "execution_count": 25,
   "id": "6be5663b-8b55-48d0-b217-54068f381a76",
   "metadata": {
    "tags": []
   },
   "outputs": [],
   "source": [
    "li.sort(reverse = True)"
   ]
  },
  {
   "cell_type": "code",
   "execution_count": 26,
   "id": "15028fcc-243f-47eb-b946-2c674b307a8a",
   "metadata": {
    "tags": []
   },
   "outputs": [
    {
     "data": {
      "text/plain": [
       "[100, 95, 65, 56, 52, 51, 41, 32, 32, 23, 21, 14, 6, 5]"
      ]
     },
     "execution_count": 26,
     "metadata": {},
     "output_type": "execute_result"
    }
   ],
   "source": [
    "li"
   ]
  },
  {
   "cell_type": "code",
   "execution_count": 28,
   "id": "6bbeca91-2894-4ec4-b43f-bf969075ca21",
   "metadata": {
    "tags": []
   },
   "outputs": [
    {
     "data": {
      "text/plain": [
       "593"
      ]
     },
     "execution_count": 28,
     "metadata": {},
     "output_type": "execute_result"
    }
   ],
   "source": [
    "sum(li)"
   ]
  },
  {
   "cell_type": "code",
   "execution_count": 29,
   "id": "6257aab2-f67b-4bc1-81e7-3dcb17aaa393",
   "metadata": {
    "tags": []
   },
   "outputs": [
    {
     "data": {
      "text/plain": [
       "2"
      ]
     },
     "execution_count": 29,
     "metadata": {},
     "output_type": "execute_result"
    }
   ],
   "source": [
    "li.index(65)"
   ]
  },
  {
   "cell_type": "code",
   "execution_count": null,
   "id": "38928913-3d3a-4452-8e4e-c41fe9b276da",
   "metadata": {},
   "outputs": [],
   "source": [
    "# 1. find the largest element in a list without using pre-defined function.\n",
    "# 2. find the second largest element in a list without using pre-defined function.\n",
    "# 3. find the squares of all elements present in a list.\n",
    "# 4. find the leader element in a list.\n",
    "# 5. find the peak element in a list."
   ]
  },
  {
   "cell_type": "code",
   "execution_count": 30,
   "id": "bede1be8-3669-4ad2-9d0f-569109bea06a",
   "metadata": {
    "tags": []
   },
   "outputs": [],
   "source": [
    "li = [12,23,45,56,67,59]"
   ]
  },
  {
   "cell_type": "code",
   "execution_count": 31,
   "id": "255a6288-22da-45b7-9b08-2ea19cfb604f",
   "metadata": {
    "tags": []
   },
   "outputs": [],
   "source": [
    "max = 0\n",
    "secMax = 0\n",
    "for i in li:\n",
    "    if max < i:\n",
    "        secMax = max\n",
    "        max = i\n",
    "    if i > secMax and i < max:\n",
    "        secMax = i"
   ]
  },
  {
   "cell_type": "code",
   "execution_count": 32,
   "id": "4a829349-37a7-40fd-9f46-247aa1e006f6",
   "metadata": {
    "tags": []
   },
   "outputs": [
    {
     "data": {
      "text/plain": [
       "(67, 59)"
      ]
     },
     "execution_count": 32,
     "metadata": {},
     "output_type": "execute_result"
    }
   ],
   "source": [
    "max, secMax"
   ]
  },
  {
   "cell_type": "code",
   "execution_count": null,
   "id": "615c9409-707f-4027-be9c-b7892d10f35f",
   "metadata": {},
   "outputs": [],
   "source": []
  }
 ],
 "metadata": {
  "kernelspec": {
   "display_name": "Python 3 (ipykernel)",
   "language": "python",
   "name": "python3"
  },
  "language_info": {
   "codemirror_mode": {
    "name": "ipython",
    "version": 3
   },
   "file_extension": ".py",
   "mimetype": "text/x-python",
   "name": "python",
   "nbconvert_exporter": "python",
   "pygments_lexer": "ipython3",
   "version": "3.11.5"
  }
 },
 "nbformat": 4,
 "nbformat_minor": 5
}
