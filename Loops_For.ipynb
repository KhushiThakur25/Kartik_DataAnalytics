{
 "cells": [
  {
   "cell_type": "code",
   "execution_count": 4,
   "id": "1d12dd5a-581c-40ee-a8e5-af12dfade132",
   "metadata": {
    "tags": []
   },
   "outputs": [
    {
     "name": "stdout",
     "output_type": "stream",
     "text": [
      "********************************************************************************************************************************************************************************************************************************************************************************************************************************************************************************************************************************************************************************************************************"
     ]
    }
   ],
   "source": [
    "# print(\"*******************************************************\")\n",
    "for i in range(0,1000,2):\n",
    "    print(\"*\",end = \"\")"
   ]
  },
  {
   "cell_type": "code",
   "execution_count": 5,
   "id": "52347ab6-8245-4a32-88f2-ad1023b27c6c",
   "metadata": {
    "tags": []
   },
   "outputs": [
    {
     "name": "stdout",
     "output_type": "stream",
     "text": [
      "* * * * * * * * * * "
     ]
    }
   ],
   "source": [
    "i = 0\n",
    "while i != 10:\n",
    "    print(\"*\",end=\" \")\n",
    "    i += 1"
   ]
  },
  {
   "cell_type": "code",
   "execution_count": null,
   "id": "8a5df360-42e9-4328-89f9-e18cbd2058cd",
   "metadata": {},
   "outputs": [],
   "source": []
  }
 ],
 "metadata": {
  "kernelspec": {
   "display_name": "Python 3 (ipykernel)",
   "language": "python",
   "name": "python3"
  },
  "language_info": {
   "codemirror_mode": {
    "name": "ipython",
    "version": 3
   },
   "file_extension": ".py",
   "mimetype": "text/x-python",
   "name": "python",
   "nbconvert_exporter": "python",
   "pygments_lexer": "ipython3",
   "version": "3.11.5"
  }
 },
 "nbformat": 4,
 "nbformat_minor": 5
}
