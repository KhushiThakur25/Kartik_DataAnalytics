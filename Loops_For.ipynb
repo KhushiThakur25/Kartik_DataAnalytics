{
 "cells": [
  {
   "cell_type": "code",
   "execution_count": 4,
   "id": "1d12dd5a-581c-40ee-a8e5-af12dfade132",
   "metadata": {
    "tags": []
   },
   "outputs": [
    {
     "name": "stdout",
     "output_type": "stream",
     "text": [
      "********************************************************************************************************************************************************************************************************************************************************************************************************************************************************************************************************************************************************************************************************************"
     ]
    }
   ],
   "source": [
    "# print(\"*******************************************************\")\n",
    "for i in range(0,1000,2):\n",
    "    print(\"*\",end = \"\")"
   ]
  },
  {
   "cell_type": "code",
   "execution_count": 5,
   "id": "52347ab6-8245-4a32-88f2-ad1023b27c6c",
   "metadata": {
    "tags": []
   },
   "outputs": [
    {
     "name": "stdout",
     "output_type": "stream",
     "text": [
      "* * * * * * * * * * "
     ]
    }
   ],
   "source": [
    "i = 0\n",
    "while i != 10:\n",
    "    print(\"*\",end=\" \")\n",
    "    i += 1"
   ]
  },
  {
   "cell_type": "code",
   "execution_count": 7,
   "id": "8a5df360-42e9-4328-89f9-e18cbd2058cd",
   "metadata": {},
   "outputs": [
    {
     "name": "stdin",
     "output_type": "stream",
     "text": [
      "Enter the number.. 79\n"
     ]
    },
    {
     "name": "stdout",
     "output_type": "stream",
     "text": [
      "Number is prime..\n"
     ]
    }
   ],
   "source": [
    "n = int(input(\"Enter the number..\"))\n",
    "prime = True\n",
    "for i in range(2,n//2+1,1):\n",
    "    if n%i == 0:\n",
    "        prime = False\n",
    "        break\n",
    "if prime:\n",
    "    print(\"Number is prime..\")\n",
    "else:\n",
    "    print(\"Number is not prime..\")"
   ]
  },
  {
   "cell_type": "code",
   "execution_count": 5,
   "id": "7b638a2a-2520-4c6b-985c-dba32dd9479a",
   "metadata": {
    "tags": []
   },
   "outputs": [
    {
     "name": "stdin",
     "output_type": "stream",
     "text": [
      "Enter the number.. 22\n"
     ]
    },
    {
     "name": "stdout",
     "output_type": "stream",
     "text": [
      "Number is not prime\n"
     ]
    }
   ],
   "source": [
    "n = int(input(\"Enter the number..\"))\n",
    "\n",
    "for i in range(2,n//2+1,1):\n",
    "    if n%i == 0:\n",
    "        print(\"Number is not prime\")\n",
    "        break\n",
    "else:\n",
    "    print(\"Number is prime..\")"
   ]
  },
  {
   "cell_type": "code",
   "execution_count": 8,
   "id": "ae1aac8c-f28c-43a2-8cfd-8981d8cb49d2",
   "metadata": {
    "tags": []
   },
   "outputs": [
    {
     "name": "stdout",
     "output_type": "stream",
     "text": [
      "* * * * * \n",
      "* * * * * \n",
      "* * * * * \n",
      "* * * * * \n",
      "* * * * * \n"
     ]
    }
   ],
   "source": [
    "for i in range(5):\n",
    "    for j in range(5):\n",
    "        print(\"*\",end = \" \")\n",
    "    print()\n"
   ]
  },
  {
   "cell_type": "code",
   "execution_count": 13,
   "id": "659fbdfa-ae7b-458f-8317-a06201d91272",
   "metadata": {
    "tags": []
   },
   "outputs": [
    {
     "name": "stdout",
     "output_type": "stream",
     "text": [
      "* \n",
      "* * \n",
      "* * * \n",
      "* * * * \n",
      "* * * * * \n"
     ]
    }
   ],
   "source": [
    "for i in range(5):\n",
    "    for j in range(i+1):\n",
    "        print(\"*\",end = \" \")\n",
    "    print()\n"
   ]
  },
  {
   "cell_type": "code",
   "execution_count": 11,
   "id": "808f281e-51bc-4635-a403-d1b0717e77f9",
   "metadata": {
    "tags": []
   },
   "outputs": [
    {
     "name": "stdout",
     "output_type": "stream",
     "text": [
      "0\n",
      "1\n",
      "2\n",
      "3\n",
      "4\n"
     ]
    }
   ],
   "source": [
    "for i in range(5):\n",
    "    print(i)"
   ]
  },
  {
   "cell_type": "code",
   "execution_count": 14,
   "id": "8544c251-7bcc-456b-962f-5f446e3ae8eb",
   "metadata": {
    "tags": []
   },
   "outputs": [
    {
     "name": "stdout",
     "output_type": "stream",
     "text": [
      "* * * * * \n",
      "* * * * \n",
      "* * * \n",
      "* * \n",
      "* \n"
     ]
    }
   ],
   "source": [
    "for i in range(5,0,-1):\n",
    "    for j in range(i):\n",
    "        print(\"*\",end = \" \")\n",
    "    print()\n"
   ]
  },
  {
   "cell_type": "code",
   "execution_count": 17,
   "id": "428cdae3-4224-4b07-858a-4e6d7d91c226",
   "metadata": {
    "tags": []
   },
   "outputs": [
    {
     "name": "stdout",
     "output_type": "stream",
     "text": [
      "(0, 0) (0, 1) (0, 2) (0, 3) (0, 4) \n",
      "(1, 0) (1, 1) (1, 2) (1, 3) (1, 4) \n",
      "(2, 0) (2, 1) (2, 2) (2, 3) (2, 4) \n",
      "(3, 0) (3, 1) (3, 2) (3, 3) (3, 4) \n",
      "(4, 0) (4, 1) (4, 2) (4, 3) (4, 4) \n"
     ]
    }
   ],
   "source": [
    "for i in range(5):\n",
    "    for j in range(5):\n",
    "        print(f\"{i,j}\",end = \" \")\n",
    "    print()\n"
   ]
  },
  {
   "cell_type": "code",
   "execution_count": 24,
   "id": "c4da486b-388b-4fef-9165-4b1e355a1622",
   "metadata": {
    "tags": []
   },
   "outputs": [
    {
     "name": "stdout",
     "output_type": "stream",
     "text": [
      "1 2 3 4 5 \n",
      "1 2 3 4 5 \n",
      "1 2 3 4 5 \n",
      "1 2 3 4 5 \n",
      "1 2 3 4 5 \n"
     ]
    }
   ],
   "source": [
    "for i in range(5):\n",
    "    for j in range(1,6):\n",
    "        print(f\"{j}\",end = \" \")\n",
    "    print()\n"
   ]
  },
  {
   "cell_type": "code",
   "execution_count": 22,
   "id": "8c7913c8-afca-4435-9b81-fb822dea8c88",
   "metadata": {
    "tags": []
   },
   "outputs": [
    {
     "name": "stdout",
     "output_type": "stream",
     "text": [
      "1 1 1 1 1 \n",
      "2 2 2 2 2 \n",
      "3 3 3 3 3 \n",
      "4 4 4 4 4 \n",
      "5 5 5 5 5 \n"
     ]
    }
   ],
   "source": [
    "for i in range(5):\n",
    "    for j in range(5):\n",
    "        print(f\"{i+1}\",end = \" \")\n",
    "    print()\n"
   ]
  },
  {
   "cell_type": "code",
   "execution_count": 26,
   "id": "3a82a642-6028-4ee0-994f-60de752b7395",
   "metadata": {
    "tags": []
   },
   "outputs": [
    {
     "name": "stdout",
     "output_type": "stream",
     "text": [
      "        * \n",
      "      * * \n",
      "    * * * \n",
      "  * * * * \n",
      "* * * * * \n"
     ]
    }
   ],
   "source": [
    "for i in range(5):\n",
    "    for j in range(4-i):\n",
    "        print(\" \",end = \" \")\n",
    "    for k in range(4-i,5):\n",
    "        print(\"*\",end = \" \")\n",
    "    print()"
   ]
  },
  {
   "cell_type": "code",
   "execution_count": 27,
   "id": "f4c65c72-d593-4c9a-9ced-21576ce0f98f",
   "metadata": {
    "tags": []
   },
   "outputs": [
    {
     "name": "stdout",
     "output_type": "stream",
     "text": [
      "* * * * * \n",
      "  * * * * \n",
      "    * * * \n",
      "      * * \n",
      "        * \n"
     ]
    }
   ],
   "source": [
    "for i in range(5):\n",
    "    for j in range(i):\n",
    "        print(\" \",end = \" \")\n",
    "    for k in range(i,5):\n",
    "        print(\"*\",end = \" \")\n",
    "    print()"
   ]
  },
  {
   "cell_type": "code",
   "execution_count": null,
   "id": "1bff8ad1-0e27-445b-8577-3598d2b35db1",
   "metadata": {},
   "outputs": [],
   "source": []
  }
 ],
 "metadata": {
  "kernelspec": {
   "display_name": "Python 3 (ipykernel)",
   "language": "python",
   "name": "python3"
  },
  "language_info": {
   "codemirror_mode": {
    "name": "ipython",
    "version": 3
   },
   "file_extension": ".py",
   "mimetype": "text/x-python",
   "name": "python",
   "nbconvert_exporter": "python",
   "pygments_lexer": "ipython3",
   "version": "3.11.5"
  }
 },
 "nbformat": 4,
 "nbformat_minor": 5
}
