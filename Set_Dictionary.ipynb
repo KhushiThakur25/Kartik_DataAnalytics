{
 "cells": [
  {
   "cell_type": "code",
   "execution_count": 1,
   "id": "55d4155e-f753-4deb-911d-a030deb3a7e2",
   "metadata": {
    "tags": []
   },
   "outputs": [],
   "source": [
    "s1 = {1,1,2,3,4,1}"
   ]
  },
  {
   "cell_type": "code",
   "execution_count": 2,
   "id": "2d0d0f83-6b24-405f-a3e4-c5855dfddeb2",
   "metadata": {
    "tags": []
   },
   "outputs": [
    {
     "data": {
      "text/plain": [
       "{1, 2, 3, 4}"
      ]
     },
     "execution_count": 2,
     "metadata": {},
     "output_type": "execute_result"
    }
   ],
   "source": [
    "s1"
   ]
  },
  {
   "cell_type": "code",
   "execution_count": 3,
   "id": "36b837a0-80c1-45a7-a9a9-3113210ae1ef",
   "metadata": {
    "tags": []
   },
   "outputs": [],
   "source": [
    "s2={3,4,5,6}"
   ]
  },
  {
   "cell_type": "code",
   "execution_count": 4,
   "id": "cf21e0fe-a344-4217-9272-ac97df980161",
   "metadata": {
    "tags": []
   },
   "outputs": [
    {
     "data": {
      "text/plain": [
       "{3, 4, 5, 6}"
      ]
     },
     "execution_count": 4,
     "metadata": {},
     "output_type": "execute_result"
    }
   ],
   "source": [
    "s2"
   ]
  },
  {
   "cell_type": "code",
   "execution_count": 5,
   "id": "76276aef-867a-4ca4-a2a1-4a61901b4cd1",
   "metadata": {
    "tags": []
   },
   "outputs": [
    {
     "data": {
      "text/plain": [
       "{1, 2, 3, 4, 5, 6}"
      ]
     },
     "execution_count": 5,
     "metadata": {},
     "output_type": "execute_result"
    }
   ],
   "source": [
    "s1.union(s2)"
   ]
  },
  {
   "cell_type": "code",
   "execution_count": 15,
   "id": "896a4796-7a6e-44c8-abeb-f26d491bc3cd",
   "metadata": {
    "tags": []
   },
   "outputs": [
    {
     "data": {
      "text/plain": [
       "{3, 4, 5, 6}"
      ]
     },
     "execution_count": 15,
     "metadata": {},
     "output_type": "execute_result"
    }
   ],
   "source": [
    "s1.intersection_update(s2)\n",
    "s1"
   ]
  },
  {
   "cell_type": "code",
   "execution_count": 9,
   "id": "10a604b1-c905-4fd4-b15c-9f7bad03d7bc",
   "metadata": {
    "tags": []
   },
   "outputs": [
    {
     "data": {
      "text/plain": [
       "{1, 2, 5, 6}"
      ]
     },
     "execution_count": 9,
     "metadata": {},
     "output_type": "execute_result"
    }
   ],
   "source": [
    "s1.symmetric_difference(s2)"
   ]
  },
  {
   "cell_type": "code",
   "execution_count": 11,
   "id": "586d91e0-41a3-41a7-9c0c-e44704c7b4e2",
   "metadata": {
    "tags": []
   },
   "outputs": [],
   "source": [
    "s1.update(s2)"
   ]
  },
  {
   "cell_type": "code",
   "execution_count": 12,
   "id": "2660cd06-258e-413a-a2e3-31fbc7e4eef7",
   "metadata": {
    "tags": []
   },
   "outputs": [
    {
     "data": {
      "text/plain": [
       "{1, 2, 3, 4, 5, 6}"
      ]
     },
     "execution_count": 12,
     "metadata": {},
     "output_type": "execute_result"
    }
   ],
   "source": [
    "s1"
   ]
  },
  {
   "cell_type": "code",
   "execution_count": 16,
   "id": "45ee5f66-167a-4288-afa7-2456c8faf727",
   "metadata": {
    "tags": []
   },
   "outputs": [
    {
     "data": {
      "text/plain": [
       "set()"
      ]
     },
     "execution_count": 16,
     "metadata": {},
     "output_type": "execute_result"
    }
   ],
   "source": [
    "s1.difference(s2)"
   ]
  },
  {
   "cell_type": "code",
   "execution_count": 17,
   "id": "b2e551d6-0052-4f0b-8878-255a46218572",
   "metadata": {
    "tags": []
   },
   "outputs": [
    {
     "data": {
      "text/plain": [
       "{3, 4, 5, 6}"
      ]
     },
     "execution_count": 17,
     "metadata": {},
     "output_type": "execute_result"
    }
   ],
   "source": [
    "s1"
   ]
  },
  {
   "cell_type": "code",
   "execution_count": 18,
   "id": "8cd9e2cf-54e9-4525-9478-e9a537f2cae6",
   "metadata": {
    "tags": []
   },
   "outputs": [
    {
     "data": {
      "text/plain": [
       "{3, 4, 5, 6}"
      ]
     },
     "execution_count": 18,
     "metadata": {},
     "output_type": "execute_result"
    }
   ],
   "source": [
    "s2"
   ]
  },
  {
   "cell_type": "code",
   "execution_count": 19,
   "id": "a9a18450-38e7-40ab-b4a0-8b38aabeea18",
   "metadata": {
    "tags": []
   },
   "outputs": [],
   "source": [
    "s1 = {1,1,2,3,4,1}\n",
    "s2={3,4,5,6}"
   ]
  },
  {
   "cell_type": "code",
   "execution_count": 26,
   "id": "51377ee8-1062-41a9-a490-391cca579eda",
   "metadata": {
    "tags": []
   },
   "outputs": [],
   "source": [
    "s3 = {3,4}\n",
    "s4 = {9,8}"
   ]
  },
  {
   "cell_type": "code",
   "execution_count": 22,
   "id": "97d54d48-faca-479e-88ff-6f464baa7fd8",
   "metadata": {
    "tags": []
   },
   "outputs": [
    {
     "data": {
      "text/plain": [
       "False"
      ]
     },
     "execution_count": 22,
     "metadata": {},
     "output_type": "execute_result"
    }
   ],
   "source": [
    "s2.issuperset(s1)"
   ]
  },
  {
   "cell_type": "code",
   "execution_count": 24,
   "id": "f9210810-c335-4c61-b23e-d6d97eea2353",
   "metadata": {
    "tags": []
   },
   "outputs": [
    {
     "data": {
      "text/plain": [
       "True"
      ]
     },
     "execution_count": 24,
     "metadata": {},
     "output_type": "execute_result"
    }
   ],
   "source": [
    "s3.issubset(s1)"
   ]
  },
  {
   "cell_type": "code",
   "execution_count": 27,
   "id": "e64d642d-bc99-4b7c-86ca-ef4f19cf70d0",
   "metadata": {
    "tags": []
   },
   "outputs": [
    {
     "data": {
      "text/plain": [
       "True"
      ]
     },
     "execution_count": 27,
     "metadata": {},
     "output_type": "execute_result"
    }
   ],
   "source": [
    "s3.isdisjoint(s4)"
   ]
  },
  {
   "cell_type": "code",
   "execution_count": 28,
   "id": "7ba4174a-0d29-43c6-a40e-aecce893fd0d",
   "metadata": {
    "tags": []
   },
   "outputs": [],
   "source": [
    "s1.add(89)"
   ]
  },
  {
   "cell_type": "code",
   "execution_count": 29,
   "id": "09c51d6e-793a-4279-946b-c542799d3294",
   "metadata": {
    "tags": []
   },
   "outputs": [
    {
     "data": {
      "text/plain": [
       "{1, 2, 3, 4, 89}"
      ]
     },
     "execution_count": 29,
     "metadata": {},
     "output_type": "execute_result"
    }
   ],
   "source": [
    "s1"
   ]
  },
  {
   "cell_type": "code",
   "execution_count": 30,
   "id": "ae578957-1b9b-4464-aa5f-551475f1a0b9",
   "metadata": {
    "tags": []
   },
   "outputs": [],
   "source": [
    "s1.add(5)"
   ]
  },
  {
   "cell_type": "code",
   "execution_count": 31,
   "id": "90d4f34c-6f77-49a1-8015-9532d785945a",
   "metadata": {
    "tags": []
   },
   "outputs": [
    {
     "data": {
      "text/plain": [
       "{1, 2, 3, 4, 5, 89}"
      ]
     },
     "execution_count": 31,
     "metadata": {},
     "output_type": "execute_result"
    }
   ],
   "source": [
    "s1"
   ]
  },
  {
   "cell_type": "code",
   "execution_count": 32,
   "id": "882f77cc-f1da-4b27-b041-c168e83029b2",
   "metadata": {
    "tags": []
   },
   "outputs": [],
   "source": [
    "s1 = list(s1)"
   ]
  },
  {
   "cell_type": "code",
   "execution_count": 35,
   "id": "f2ce28d7-3aee-436f-88ce-11b642e1c7b2",
   "metadata": {
    "tags": []
   },
   "outputs": [],
   "source": [
    "s1 = set(s1)"
   ]
  },
  {
   "cell_type": "code",
   "execution_count": 36,
   "id": "028df5f7-94f6-4735-99fa-c925b16f76ff",
   "metadata": {
    "tags": []
   },
   "outputs": [],
   "source": [
    "s1.discard(5)"
   ]
  },
  {
   "cell_type": "code",
   "execution_count": 38,
   "id": "b1c61a37-202a-4840-aebf-717d05e6f3a5",
   "metadata": {
    "tags": []
   },
   "outputs": [],
   "source": [
    "s1.discard(50)"
   ]
  },
  {
   "cell_type": "code",
   "execution_count": 39,
   "id": "c855caa1-4b76-4f65-9a19-dc38c4a95a50",
   "metadata": {
    "tags": []
   },
   "outputs": [
    {
     "data": {
      "text/plain": [
       "{1, 2, 3, 4, 89}"
      ]
     },
     "execution_count": 39,
     "metadata": {},
     "output_type": "execute_result"
    }
   ],
   "source": [
    "s1"
   ]
  },
  {
   "cell_type": "code",
   "execution_count": 40,
   "id": "894115b2-dc57-4630-a0be-c92090fef6f7",
   "metadata": {
    "tags": []
   },
   "outputs": [
    {
     "ename": "KeyError",
     "evalue": "5",
     "output_type": "error",
     "traceback": [
      "\u001b[1;31m---------------------------------------------------------------------------\u001b[0m",
      "\u001b[1;31mKeyError\u001b[0m                                  Traceback (most recent call last)",
      "Cell \u001b[1;32mIn[40], line 1\u001b[0m\n\u001b[1;32m----> 1\u001b[0m s1\u001b[38;5;241m.\u001b[39mremove(\u001b[38;5;241m5\u001b[39m)\n",
      "\u001b[1;31mKeyError\u001b[0m: 5"
     ]
    }
   ],
   "source": [
    "s1.remove(5)"
   ]
  },
  {
   "cell_type": "code",
   "execution_count": 41,
   "id": "4b5dbc3f-369b-4ff3-8cdc-6ccb3d540cac",
   "metadata": {
    "tags": []
   },
   "outputs": [
    {
     "data": {
      "text/plain": [
       "1"
      ]
     },
     "execution_count": 41,
     "metadata": {},
     "output_type": "execute_result"
    }
   ],
   "source": [
    "s1.pop()"
   ]
  },
  {
   "cell_type": "code",
   "execution_count": 43,
   "id": "100462b1-bba9-4f41-8d0f-150c726f98b9",
   "metadata": {
    "tags": []
   },
   "outputs": [],
   "source": [
    "s1 = frozenset(s1)"
   ]
  },
  {
   "cell_type": "code",
   "execution_count": 44,
   "id": "ddecbdeb-2ddf-4008-95e8-e0689e8b71b4",
   "metadata": {
    "tags": []
   },
   "outputs": [
    {
     "ename": "AttributeError",
     "evalue": "'frozenset' object has no attribute 'add'",
     "output_type": "error",
     "traceback": [
      "\u001b[1;31m---------------------------------------------------------------------------\u001b[0m",
      "\u001b[1;31mAttributeError\u001b[0m                            Traceback (most recent call last)",
      "Cell \u001b[1;32mIn[44], line 1\u001b[0m\n\u001b[1;32m----> 1\u001b[0m s1\u001b[38;5;241m.\u001b[39madd(\u001b[38;5;241m96\u001b[39m)\n",
      "\u001b[1;31mAttributeError\u001b[0m: 'frozenset' object has no attribute 'add'"
     ]
    }
   ],
   "source": [
    "s1.add(96)"
   ]
  },
  {
   "cell_type": "code",
   "execution_count": 45,
   "id": "eb44cf5c-02a5-461f-a183-e96f3e182953",
   "metadata": {
    "tags": []
   },
   "outputs": [
    {
     "data": {
      "text/plain": [
       "98"
      ]
     },
     "execution_count": 45,
     "metadata": {},
     "output_type": "execute_result"
    }
   ],
   "source": [
    "sum(s1)"
   ]
  },
  {
   "cell_type": "code",
   "execution_count": 46,
   "id": "7b1e36b0-4da9-43ee-9c59-2c4d8cdfd85c",
   "metadata": {
    "tags": []
   },
   "outputs": [],
   "source": [
    "s1= {23,\"om\",\"true\",65}"
   ]
  },
  {
   "cell_type": "code",
   "execution_count": null,
   "id": "65e1e088-e7b1-4c08-bb13-dd20c1a60891",
   "metadata": {
    "tags": []
   },
   "outputs": [],
   "source": []
  },
  {
   "cell_type": "code",
   "execution_count": null,
   "id": "1bd59b0d-a928-4b17-ad8f-0b9dc54706c5",
   "metadata": {},
   "outputs": [],
   "source": []
  }
 ],
 "metadata": {
  "kernelspec": {
   "display_name": "Python 3 (ipykernel)",
   "language": "python",
   "name": "python3"
  },
  "language_info": {
   "codemirror_mode": {
    "name": "ipython",
    "version": 3
   },
   "file_extension": ".py",
   "mimetype": "text/x-python",
   "name": "python",
   "nbconvert_exporter": "python",
   "pygments_lexer": "ipython3",
   "version": "3.11.5"
  }
 },
 "nbformat": 4,
 "nbformat_minor": 5
}
