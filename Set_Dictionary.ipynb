{
 "cells": [
  {
   "cell_type": "code",
   "execution_count": 1,
   "id": "55d4155e-f753-4deb-911d-a030deb3a7e2",
   "metadata": {
    "tags": []
   },
   "outputs": [],
   "source": [
    "s1 = {1,1,2,3,4,1}"
   ]
  },
  {
   "cell_type": "code",
   "execution_count": 2,
   "id": "2d0d0f83-6b24-405f-a3e4-c5855dfddeb2",
   "metadata": {
    "tags": []
   },
   "outputs": [
    {
     "data": {
      "text/plain": [
       "{1, 2, 3, 4}"
      ]
     },
     "execution_count": 2,
     "metadata": {},
     "output_type": "execute_result"
    }
   ],
   "source": [
    "s1"
   ]
  },
  {
   "cell_type": "code",
   "execution_count": 3,
   "id": "36b837a0-80c1-45a7-a9a9-3113210ae1ef",
   "metadata": {
    "tags": []
   },
   "outputs": [],
   "source": [
    "s2={3,4,5,6}"
   ]
  },
  {
   "cell_type": "code",
   "execution_count": 4,
   "id": "cf21e0fe-a344-4217-9272-ac97df980161",
   "metadata": {
    "tags": []
   },
   "outputs": [
    {
     "data": {
      "text/plain": [
       "{3, 4, 5, 6}"
      ]
     },
     "execution_count": 4,
     "metadata": {},
     "output_type": "execute_result"
    }
   ],
   "source": [
    "s2"
   ]
  },
  {
   "cell_type": "code",
   "execution_count": 5,
   "id": "76276aef-867a-4ca4-a2a1-4a61901b4cd1",
   "metadata": {
    "tags": []
   },
   "outputs": [
    {
     "data": {
      "text/plain": [
       "{1, 2, 3, 4, 5, 6}"
      ]
     },
     "execution_count": 5,
     "metadata": {},
     "output_type": "execute_result"
    }
   ],
   "source": [
    "s1.union(s2)"
   ]
  },
  {
   "cell_type": "code",
   "execution_count": 15,
   "id": "896a4796-7a6e-44c8-abeb-f26d491bc3cd",
   "metadata": {
    "tags": []
   },
   "outputs": [
    {
     "data": {
      "text/plain": [
       "{3, 4, 5, 6}"
      ]
     },
     "execution_count": 15,
     "metadata": {},
     "output_type": "execute_result"
    }
   ],
   "source": [
    "s1.intersection_update(s2)\n",
    "s1"
   ]
  },
  {
   "cell_type": "code",
   "execution_count": 9,
   "id": "10a604b1-c905-4fd4-b15c-9f7bad03d7bc",
   "metadata": {
    "tags": []
   },
   "outputs": [
    {
     "data": {
      "text/plain": [
       "{1, 2, 5, 6}"
      ]
     },
     "execution_count": 9,
     "metadata": {},
     "output_type": "execute_result"
    }
   ],
   "source": [
    "s1.symmetric_difference(s2)"
   ]
  },
  {
   "cell_type": "code",
   "execution_count": 11,
   "id": "586d91e0-41a3-41a7-9c0c-e44704c7b4e2",
   "metadata": {
    "tags": []
   },
   "outputs": [],
   "source": [
    "s1.update(s2)"
   ]
  },
  {
   "cell_type": "code",
   "execution_count": 12,
   "id": "2660cd06-258e-413a-a2e3-31fbc7e4eef7",
   "metadata": {
    "tags": []
   },
   "outputs": [
    {
     "data": {
      "text/plain": [
       "{1, 2, 3, 4, 5, 6}"
      ]
     },
     "execution_count": 12,
     "metadata": {},
     "output_type": "execute_result"
    }
   ],
   "source": [
    "s1"
   ]
  },
  {
   "cell_type": "code",
   "execution_count": 16,
   "id": "45ee5f66-167a-4288-afa7-2456c8faf727",
   "metadata": {
    "tags": []
   },
   "outputs": [
    {
     "data": {
      "text/plain": [
       "set()"
      ]
     },
     "execution_count": 16,
     "metadata": {},
     "output_type": "execute_result"
    }
   ],
   "source": [
    "s1.difference(s2)"
   ]
  },
  {
   "cell_type": "code",
   "execution_count": 17,
   "id": "b2e551d6-0052-4f0b-8878-255a46218572",
   "metadata": {
    "tags": []
   },
   "outputs": [
    {
     "data": {
      "text/plain": [
       "{3, 4, 5, 6}"
      ]
     },
     "execution_count": 17,
     "metadata": {},
     "output_type": "execute_result"
    }
   ],
   "source": [
    "s1"
   ]
  },
  {
   "cell_type": "code",
   "execution_count": 18,
   "id": "8cd9e2cf-54e9-4525-9478-e9a537f2cae6",
   "metadata": {
    "tags": []
   },
   "outputs": [
    {
     "data": {
      "text/plain": [
       "{3, 4, 5, 6}"
      ]
     },
     "execution_count": 18,
     "metadata": {},
     "output_type": "execute_result"
    }
   ],
   "source": [
    "s2"
   ]
  },
  {
   "cell_type": "code",
   "execution_count": 19,
   "id": "a9a18450-38e7-40ab-b4a0-8b38aabeea18",
   "metadata": {
    "tags": []
   },
   "outputs": [],
   "source": [
    "s1 = {1,1,2,3,4,1}\n",
    "s2={3,4,5,6}"
   ]
  },
  {
   "cell_type": "code",
   "execution_count": 26,
   "id": "51377ee8-1062-41a9-a490-391cca579eda",
   "metadata": {
    "tags": []
   },
   "outputs": [],
   "source": [
    "s3 = {3,4}\n",
    "s4 = {9,8}"
   ]
  },
  {
   "cell_type": "code",
   "execution_count": 22,
   "id": "97d54d48-faca-479e-88ff-6f464baa7fd8",
   "metadata": {
    "tags": []
   },
   "outputs": [
    {
     "data": {
      "text/plain": [
       "False"
      ]
     },
     "execution_count": 22,
     "metadata": {},
     "output_type": "execute_result"
    }
   ],
   "source": [
    "s2.issuperset(s1)"
   ]
  },
  {
   "cell_type": "code",
   "execution_count": 24,
   "id": "f9210810-c335-4c61-b23e-d6d97eea2353",
   "metadata": {
    "tags": []
   },
   "outputs": [
    {
     "data": {
      "text/plain": [
       "True"
      ]
     },
     "execution_count": 24,
     "metadata": {},
     "output_type": "execute_result"
    }
   ],
   "source": [
    "s3.issubset(s1)"
   ]
  },
  {
   "cell_type": "code",
   "execution_count": 27,
   "id": "e64d642d-bc99-4b7c-86ca-ef4f19cf70d0",
   "metadata": {
    "tags": []
   },
   "outputs": [
    {
     "data": {
      "text/plain": [
       "True"
      ]
     },
     "execution_count": 27,
     "metadata": {},
     "output_type": "execute_result"
    }
   ],
   "source": [
    "s3.isdisjoint(s4)"
   ]
  },
  {
   "cell_type": "code",
   "execution_count": 28,
   "id": "7ba4174a-0d29-43c6-a40e-aecce893fd0d",
   "metadata": {
    "tags": []
   },
   "outputs": [],
   "source": [
    "s1.add(89)"
   ]
  },
  {
   "cell_type": "code",
   "execution_count": 29,
   "id": "09c51d6e-793a-4279-946b-c542799d3294",
   "metadata": {
    "tags": []
   },
   "outputs": [
    {
     "data": {
      "text/plain": [
       "{1, 2, 3, 4, 89}"
      ]
     },
     "execution_count": 29,
     "metadata": {},
     "output_type": "execute_result"
    }
   ],
   "source": [
    "s1"
   ]
  },
  {
   "cell_type": "code",
   "execution_count": 30,
   "id": "ae578957-1b9b-4464-aa5f-551475f1a0b9",
   "metadata": {
    "tags": []
   },
   "outputs": [],
   "source": [
    "s1.add(5)"
   ]
  },
  {
   "cell_type": "code",
   "execution_count": 31,
   "id": "90d4f34c-6f77-49a1-8015-9532d785945a",
   "metadata": {
    "tags": []
   },
   "outputs": [
    {
     "data": {
      "text/plain": [
       "{1, 2, 3, 4, 5, 89}"
      ]
     },
     "execution_count": 31,
     "metadata": {},
     "output_type": "execute_result"
    }
   ],
   "source": [
    "s1"
   ]
  },
  {
   "cell_type": "code",
   "execution_count": 32,
   "id": "882f77cc-f1da-4b27-b041-c168e83029b2",
   "metadata": {
    "tags": []
   },
   "outputs": [],
   "source": [
    "s1 = list(s1)"
   ]
  },
  {
   "cell_type": "code",
   "execution_count": 35,
   "id": "f2ce28d7-3aee-436f-88ce-11b642e1c7b2",
   "metadata": {
    "tags": []
   },
   "outputs": [],
   "source": [
    "s1 = set(s1)"
   ]
  },
  {
   "cell_type": "code",
   "execution_count": 36,
   "id": "028df5f7-94f6-4735-99fa-c925b16f76ff",
   "metadata": {
    "tags": []
   },
   "outputs": [],
   "source": [
    "s1.discard(5)"
   ]
  },
  {
   "cell_type": "code",
   "execution_count": 38,
   "id": "b1c61a37-202a-4840-aebf-717d05e6f3a5",
   "metadata": {
    "tags": []
   },
   "outputs": [],
   "source": [
    "s1.discard(50)"
   ]
  },
  {
   "cell_type": "code",
   "execution_count": 39,
   "id": "c855caa1-4b76-4f65-9a19-dc38c4a95a50",
   "metadata": {
    "tags": []
   },
   "outputs": [
    {
     "data": {
      "text/plain": [
       "{1, 2, 3, 4, 89}"
      ]
     },
     "execution_count": 39,
     "metadata": {},
     "output_type": "execute_result"
    }
   ],
   "source": [
    "s1"
   ]
  },
  {
   "cell_type": "code",
   "execution_count": 40,
   "id": "894115b2-dc57-4630-a0be-c92090fef6f7",
   "metadata": {
    "tags": []
   },
   "outputs": [
    {
     "ename": "KeyError",
     "evalue": "5",
     "output_type": "error",
     "traceback": [
      "\u001b[1;31m---------------------------------------------------------------------------\u001b[0m",
      "\u001b[1;31mKeyError\u001b[0m                                  Traceback (most recent call last)",
      "Cell \u001b[1;32mIn[40], line 1\u001b[0m\n\u001b[1;32m----> 1\u001b[0m s1\u001b[38;5;241m.\u001b[39mremove(\u001b[38;5;241m5\u001b[39m)\n",
      "\u001b[1;31mKeyError\u001b[0m: 5"
     ]
    }
   ],
   "source": [
    "s1.remove(5)"
   ]
  },
  {
   "cell_type": "code",
   "execution_count": 41,
   "id": "4b5dbc3f-369b-4ff3-8cdc-6ccb3d540cac",
   "metadata": {
    "tags": []
   },
   "outputs": [
    {
     "data": {
      "text/plain": [
       "1"
      ]
     },
     "execution_count": 41,
     "metadata": {},
     "output_type": "execute_result"
    }
   ],
   "source": [
    "s1.pop()"
   ]
  },
  {
   "cell_type": "code",
   "execution_count": 43,
   "id": "100462b1-bba9-4f41-8d0f-150c726f98b9",
   "metadata": {
    "tags": []
   },
   "outputs": [],
   "source": [
    "s1 = frozenset(s1)"
   ]
  },
  {
   "cell_type": "code",
   "execution_count": 44,
   "id": "ddecbdeb-2ddf-4008-95e8-e0689e8b71b4",
   "metadata": {
    "tags": []
   },
   "outputs": [
    {
     "ename": "AttributeError",
     "evalue": "'frozenset' object has no attribute 'add'",
     "output_type": "error",
     "traceback": [
      "\u001b[1;31m---------------------------------------------------------------------------\u001b[0m",
      "\u001b[1;31mAttributeError\u001b[0m                            Traceback (most recent call last)",
      "Cell \u001b[1;32mIn[44], line 1\u001b[0m\n\u001b[1;32m----> 1\u001b[0m s1\u001b[38;5;241m.\u001b[39madd(\u001b[38;5;241m96\u001b[39m)\n",
      "\u001b[1;31mAttributeError\u001b[0m: 'frozenset' object has no attribute 'add'"
     ]
    }
   ],
   "source": [
    "s1.add(96)"
   ]
  },
  {
   "cell_type": "code",
   "execution_count": 45,
   "id": "eb44cf5c-02a5-461f-a183-e96f3e182953",
   "metadata": {
    "tags": []
   },
   "outputs": [
    {
     "data": {
      "text/plain": [
       "98"
      ]
     },
     "execution_count": 45,
     "metadata": {},
     "output_type": "execute_result"
    }
   ],
   "source": [
    "sum(s1)"
   ]
  },
  {
   "cell_type": "code",
   "execution_count": 46,
   "id": "7b1e36b0-4da9-43ee-9c59-2c4d8cdfd85c",
   "metadata": {
    "tags": []
   },
   "outputs": [],
   "source": [
    "s1= {23,\"om\",\"true\",65}"
   ]
  },
  {
   "cell_type": "code",
   "execution_count": 1,
   "id": "65e1e088-e7b1-4c08-bb13-dd20c1a60891",
   "metadata": {
    "tags": []
   },
   "outputs": [],
   "source": [
    "dic = {'name':'Khushi','class':8,'age':13}"
   ]
  },
  {
   "cell_type": "code",
   "execution_count": 2,
   "id": "1bd59b0d-a928-4b17-ad8f-0b9dc54706c5",
   "metadata": {},
   "outputs": [
    {
     "data": {
      "text/plain": [
       "{'name': 'Khushi', 'class': 8, 'age': 13}"
      ]
     },
     "execution_count": 2,
     "metadata": {},
     "output_type": "execute_result"
    }
   ],
   "source": [
    "dic"
   ]
  },
  {
   "cell_type": "code",
   "execution_count": 3,
   "id": "4e4e164f-ba02-4109-a240-12f54de35ce6",
   "metadata": {
    "tags": []
   },
   "outputs": [],
   "source": [
    "dic1 = {'marks':85,'school':'DPS','address':'delhi'}"
   ]
  },
  {
   "cell_type": "code",
   "execution_count": 4,
   "id": "ab2d0ea5-85a7-4e87-bed3-b148b3a528c9",
   "metadata": {
    "tags": []
   },
   "outputs": [],
   "source": [
    "dic.update(dic1)"
   ]
  },
  {
   "cell_type": "code",
   "execution_count": 9,
   "id": "e239a332-eb6b-4d9d-814f-33fe3a02b5d8",
   "metadata": {
    "tags": []
   },
   "outputs": [],
   "source": [
    "dic['hobby']='dancing'"
   ]
  },
  {
   "cell_type": "code",
   "execution_count": 10,
   "id": "cc98b376-e8ad-4ab4-b813-70d9ccdd711d",
   "metadata": {
    "tags": []
   },
   "outputs": [
    {
     "data": {
      "text/plain": [
       "{'name': 'Khushi',\n",
       " 'class': 8,\n",
       " 'age': 13,\n",
       " 'marks': 85,\n",
       " 'school': 'DPS',\n",
       " 'address': 'delhi',\n",
       " 'hobby': 'dancing'}"
      ]
     },
     "execution_count": 10,
     "metadata": {},
     "output_type": "execute_result"
    }
   ],
   "source": [
    "dic"
   ]
  },
  {
   "cell_type": "code",
   "execution_count": 11,
   "id": "6151ec68-8afc-4c4b-b0e1-13675fa3b525",
   "metadata": {
    "tags": []
   },
   "outputs": [
    {
     "name": "stdin",
     "output_type": "stream",
     "text": [
      "Enter the value.. gardening\n"
     ]
    }
   ],
   "source": [
    "h = input(\"Enter the value..\")\n",
    "dic['hobby'] = h"
   ]
  },
  {
   "cell_type": "code",
   "execution_count": 12,
   "id": "20902152-b34a-4706-a1e0-b82e99fb1956",
   "metadata": {
    "tags": []
   },
   "outputs": [
    {
     "data": {
      "text/plain": [
       "{'name': 'Khushi',\n",
       " 'class': 8,\n",
       " 'age': 13,\n",
       " 'marks': 85,\n",
       " 'school': 'DPS',\n",
       " 'address': 'delhi',\n",
       " 'hobby': 'gardening'}"
      ]
     },
     "execution_count": 12,
     "metadata": {},
     "output_type": "execute_result"
    }
   ],
   "source": [
    "dic"
   ]
  },
  {
   "cell_type": "code",
   "execution_count": 13,
   "id": "30397c31-91ce-42ec-94b1-d20b5d552e28",
   "metadata": {
    "tags": []
   },
   "outputs": [
    {
     "data": {
      "text/plain": [
       "dict_keys(['name', 'class', 'age', 'marks', 'school', 'address', 'hobby'])"
      ]
     },
     "execution_count": 13,
     "metadata": {},
     "output_type": "execute_result"
    }
   ],
   "source": [
    "dic.keys()"
   ]
  },
  {
   "cell_type": "code",
   "execution_count": 14,
   "id": "0cb897a1-441c-4814-9c26-fd9b675ff70b",
   "metadata": {
    "tags": []
   },
   "outputs": [
    {
     "data": {
      "text/plain": [
       "dict_values(['Khushi', 8, 13, 85, 'DPS', 'delhi', 'gardening'])"
      ]
     },
     "execution_count": 14,
     "metadata": {},
     "output_type": "execute_result"
    }
   ],
   "source": [
    "dic.values()"
   ]
  },
  {
   "cell_type": "code",
   "execution_count": 15,
   "id": "529ef457-3f77-4cc6-87a3-8824bd63dfbc",
   "metadata": {
    "tags": []
   },
   "outputs": [
    {
     "data": {
      "text/plain": [
       "dict_items([('name', 'Khushi'), ('class', 8), ('age', 13), ('marks', 85), ('school', 'DPS'), ('address', 'delhi'), ('hobby', 'gardening')])"
      ]
     },
     "execution_count": 15,
     "metadata": {},
     "output_type": "execute_result"
    }
   ],
   "source": [
    "dic.items()"
   ]
  },
  {
   "cell_type": "code",
   "execution_count": 16,
   "id": "7bbb7f47-25ef-4a20-b400-d961ad26b548",
   "metadata": {
    "tags": []
   },
   "outputs": [
    {
     "data": {
      "text/plain": [
       "'Khushi'"
      ]
     },
     "execution_count": 16,
     "metadata": {},
     "output_type": "execute_result"
    }
   ],
   "source": [
    "dic.get('name')"
   ]
  },
  {
   "cell_type": "code",
   "execution_count": 18,
   "id": "6e161d26-9792-4f79-83be-b944565436d8",
   "metadata": {
    "tags": []
   },
   "outputs": [
    {
     "data": {
      "text/plain": [
       "'gardening'"
      ]
     },
     "execution_count": 18,
     "metadata": {},
     "output_type": "execute_result"
    }
   ],
   "source": [
    "dic.pop('hobby')"
   ]
  },
  {
   "cell_type": "code",
   "execution_count": 19,
   "id": "107286eb-feb3-49a6-86cd-e64a5ddbb681",
   "metadata": {
    "tags": []
   },
   "outputs": [
    {
     "data": {
      "text/plain": [
       "{'name': 'Khushi',\n",
       " 'class': 8,\n",
       " 'age': 13,\n",
       " 'marks': 85,\n",
       " 'school': 'DPS',\n",
       " 'address': 'delhi'}"
      ]
     },
     "execution_count": 19,
     "metadata": {},
     "output_type": "execute_result"
    }
   ],
   "source": [
    "dic"
   ]
  },
  {
   "cell_type": "code",
   "execution_count": 20,
   "id": "389e2a19-bcb2-470c-b350-d7b0e0776bd2",
   "metadata": {
    "tags": []
   },
   "outputs": [
    {
     "data": {
      "text/plain": [
       "('address', 'delhi')"
      ]
     },
     "execution_count": 20,
     "metadata": {},
     "output_type": "execute_result"
    }
   ],
   "source": [
    "dic.popitem()"
   ]
  },
  {
   "cell_type": "code",
   "execution_count": 21,
   "id": "119871b8-8045-40ff-952f-18839d22f108",
   "metadata": {
    "tags": []
   },
   "outputs": [],
   "source": [
    "dic = {'names':['riya','siya','hari','om'],'marks':{'hindi':85,'maths':95,'eng':69}}"
   ]
  },
  {
   "cell_type": "code",
   "execution_count": 22,
   "id": "72e0f25f-cb70-482d-99c3-d63e7c3d391b",
   "metadata": {
    "tags": []
   },
   "outputs": [
    {
     "data": {
      "text/plain": [
       "'siya'"
      ]
     },
     "execution_count": 22,
     "metadata": {},
     "output_type": "execute_result"
    }
   ],
   "source": [
    "dic['names'][1]"
   ]
  },
  {
   "cell_type": "code",
   "execution_count": 23,
   "id": "f4a9ee00-5a53-4825-a810-3b9787c5e37f",
   "metadata": {
    "tags": []
   },
   "outputs": [
    {
     "data": {
      "text/plain": [
       "95"
      ]
     },
     "execution_count": 23,
     "metadata": {},
     "output_type": "execute_result"
    }
   ],
   "source": [
    "dic['marks']['maths']"
   ]
  },
  {
   "cell_type": "code",
   "execution_count": 28,
   "id": "a9196248-db0c-4101-99bf-8eda8e0679cc",
   "metadata": {
    "tags": []
   },
   "outputs": [
    {
     "name": "stdout",
     "output_type": "stream",
     "text": [
      "names ['riya', 'siya', 'hari', 'om']\n",
      "marks {'hindi': 85, 'maths': 95, 'eng': 69}\n"
     ]
    }
   ],
   "source": [
    "for i,j in dic.items():\n",
    "    print(i,j)"
   ]
  },
  {
   "cell_type": "code",
   "execution_count": 46,
   "id": "5ef08dbe-48b5-4a4a-bd0a-cb5e4b8ff2aa",
   "metadata": {
    "tags": []
   },
   "outputs": [],
   "source": [
    "# input = 1 2 3 5 8\n",
    "# output = one two three five eight\n",
    "dic = {'1':'one','2':'two','3':'three','4':'four'}\n",
    "t = \"\""
   ]
  },
  {
   "cell_type": "code",
   "execution_count": 47,
   "id": "4a310d3c-beb6-4cef-b77e-0a7fc9ddf7ed",
   "metadata": {
    "tags": []
   },
   "outputs": [
    {
     "name": "stdin",
     "output_type": "stream",
     "text": [
      "enter the value 4321\n"
     ]
    }
   ],
   "source": [
    "st = input(\"enter the value\")"
   ]
  },
  {
   "cell_type": "code",
   "execution_count": 48,
   "id": "b26145ab-064d-4d6a-9752-2b37bda617e4",
   "metadata": {
    "tags": []
   },
   "outputs": [],
   "source": [
    "for i in st:\n",
    "    t = t+ dic.get(i) + \" \""
   ]
  },
  {
   "cell_type": "code",
   "execution_count": 49,
   "id": "4154d04a-4fe6-47dc-af14-3fad927ca47c",
   "metadata": {
    "tags": []
   },
   "outputs": [
    {
     "data": {
      "text/plain": [
       "'four three two one '"
      ]
     },
     "execution_count": 49,
     "metadata": {},
     "output_type": "execute_result"
    }
   ],
   "source": [
    "t"
   ]
  },
  {
   "cell_type": "code",
   "execution_count": 60,
   "id": "d998bb29-3c2f-4e58-99f4-a0cfab3e8814",
   "metadata": {
    "tags": []
   },
   "outputs": [],
   "source": [
    "def calc():\n",
    "    a = 5\n",
    "    b = 6\n",
    "    print(\"Hello , i'm calc\",a,b)\n",
    "    return a+b"
   ]
  },
  {
   "cell_type": "code",
   "execution_count": 61,
   "id": "ba2e2cd0-8c2c-43d2-9a9e-557c28a6cfbf",
   "metadata": {
    "tags": []
   },
   "outputs": [
    {
     "name": "stdout",
     "output_type": "stream",
     "text": [
      "Hello , i'm calc 5 6\n"
     ]
    }
   ],
   "source": [
    "a = calc()"
   ]
  },
  {
   "cell_type": "code",
   "execution_count": 62,
   "id": "2828aac8-d7eb-4b1f-81b2-461c1f75262f",
   "metadata": {
    "tags": []
   },
   "outputs": [
    {
     "data": {
      "text/plain": [
       "11"
      ]
     },
     "execution_count": 62,
     "metadata": {},
     "output_type": "execute_result"
    }
   ],
   "source": [
    "a"
   ]
  },
  {
   "cell_type": "code",
   "execution_count": null,
   "id": "40eeaaf6-5948-437f-b6ab-8a7e132adede",
   "metadata": {},
   "outputs": [],
   "source": []
  }
 ],
 "metadata": {
  "kernelspec": {
   "display_name": "Python 3 (ipykernel)",
   "language": "python",
   "name": "python3"
  },
  "language_info": {
   "codemirror_mode": {
    "name": "ipython",
    "version": 3
   },
   "file_extension": ".py",
   "mimetype": "text/x-python",
   "name": "python",
   "nbconvert_exporter": "python",
   "pygments_lexer": "ipython3",
   "version": "3.11.5"
  }
 },
 "nbformat": 4,
 "nbformat_minor": 5
}
