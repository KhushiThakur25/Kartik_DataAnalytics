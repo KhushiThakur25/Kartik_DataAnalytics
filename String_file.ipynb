{
 "cells": [
  {
   "cell_type": "code",
   "execution_count": 4,
   "id": "b27ce367-9b57-4282-bce5-84d4cb9eb37f",
   "metadata": {
    "tags": []
   },
   "outputs": [
    {
     "data": {
      "text/plain": [
       "str"
      ]
     },
     "execution_count": 4,
     "metadata": {},
     "output_type": "execute_result"
    }
   ],
   "source": [
    "st = 'This is Python Language'\n",
    "type(st)"
   ]
  },
  {
   "cell_type": "code",
   "execution_count": 3,
   "id": "c1944928-f95e-479f-baee-e4122eb96eb4",
   "metadata": {
    "tags": []
   },
   "outputs": [
    {
     "data": {
      "text/plain": [
       "str"
      ]
     },
     "execution_count": 3,
     "metadata": {},
     "output_type": "execute_result"
    }
   ],
   "source": [
    "st = 'a'\n",
    "type(st)"
   ]
  },
  {
   "cell_type": "code",
   "execution_count": 5,
   "id": "29c94f5d-1dd1-4721-9234-103fc180f304",
   "metadata": {
    "tags": []
   },
   "outputs": [],
   "source": [
    "st = 'This is Python Language'"
   ]
  },
  {
   "cell_type": "code",
   "execution_count": 9,
   "id": "8d70924f-93c2-4ea1-a7f7-a326ebabc357",
   "metadata": {
    "tags": []
   },
   "outputs": [
    {
     "ename": "TypeError",
     "evalue": "'str' object doesn't support item deletion",
     "output_type": "error",
     "traceback": [
      "\u001b[1;31m---------------------------------------------------------------------------\u001b[0m",
      "\u001b[1;31mTypeError\u001b[0m                                 Traceback (most recent call last)",
      "Cell \u001b[1;32mIn[9], line 1\u001b[0m\n\u001b[1;32m----> 1\u001b[0m \u001b[38;5;28;01mdel\u001b[39;00m st[\u001b[38;5;241m0\u001b[39m]\n",
      "\u001b[1;31mTypeError\u001b[0m: 'str' object doesn't support item deletion"
     ]
    }
   ],
   "source": [
    "del st[0]"
   ]
  },
  {
   "cell_type": "code",
   "execution_count": 8,
   "id": "307f1312-17f6-4774-a59b-1ec6e8b351e7",
   "metadata": {
    "tags": []
   },
   "outputs": [
    {
     "ename": "TypeError",
     "evalue": "'str' object does not support item assignment",
     "output_type": "error",
     "traceback": [
      "\u001b[1;31m---------------------------------------------------------------------------\u001b[0m",
      "\u001b[1;31mTypeError\u001b[0m                                 Traceback (most recent call last)",
      "Cell \u001b[1;32mIn[8], line 1\u001b[0m\n\u001b[1;32m----> 1\u001b[0m st[\u001b[38;5;241m1\u001b[39m] \u001b[38;5;241m=\u001b[39m \u001b[38;5;124m'\u001b[39m\u001b[38;5;124mp\u001b[39m\u001b[38;5;124m'\u001b[39m\n",
      "\u001b[1;31mTypeError\u001b[0m: 'str' object does not support item assignment"
     ]
    }
   ],
   "source": [
    "st[1] = 'p'"
   ]
  },
  {
   "cell_type": "code",
   "execution_count": 10,
   "id": "54d93b28-3ee3-481b-bf23-c9f76a948559",
   "metadata": {
    "tags": []
   },
   "outputs": [
    {
     "data": {
      "text/plain": [
       "'THIS IS PYTHON LANGUAGE'"
      ]
     },
     "execution_count": 10,
     "metadata": {},
     "output_type": "execute_result"
    }
   ],
   "source": [
    "st.upper()"
   ]
  },
  {
   "cell_type": "code",
   "execution_count": 11,
   "id": "22dd3e56-8007-44a8-b3fb-ce2ca790d713",
   "metadata": {
    "tags": []
   },
   "outputs": [
    {
     "data": {
      "text/plain": [
       "'This is Python Language'"
      ]
     },
     "execution_count": 11,
     "metadata": {},
     "output_type": "execute_result"
    }
   ],
   "source": [
    "st"
   ]
  },
  {
   "cell_type": "code",
   "execution_count": 12,
   "id": "c490bdb9-2ba4-4f77-8fff-f65e578d52eb",
   "metadata": {
    "tags": []
   },
   "outputs": [],
   "source": [
    "st = st.upper()"
   ]
  },
  {
   "cell_type": "code",
   "execution_count": 13,
   "id": "84a1d435-b637-4a10-9d8c-6b0ca44aad89",
   "metadata": {
    "tags": []
   },
   "outputs": [
    {
     "data": {
      "text/plain": [
       "'THIS IS PYTHON LANGUAGE'"
      ]
     },
     "execution_count": 13,
     "metadata": {},
     "output_type": "execute_result"
    }
   ],
   "source": [
    "st"
   ]
  },
  {
   "cell_type": "code",
   "execution_count": 14,
   "id": "7c6245e8-3e3b-4df3-a81f-3565ccef0db9",
   "metadata": {
    "tags": []
   },
   "outputs": [],
   "source": [
    "st = 'This is Python Language'"
   ]
  },
  {
   "cell_type": "code",
   "execution_count": 15,
   "id": "3feb25bd-55d6-4086-8792-b876dc8042d3",
   "metadata": {
    "tags": []
   },
   "outputs": [
    {
     "data": {
      "text/plain": [
       "'this is python language'"
      ]
     },
     "execution_count": 15,
     "metadata": {},
     "output_type": "execute_result"
    }
   ],
   "source": [
    "st.lower()"
   ]
  },
  {
   "cell_type": "code",
   "execution_count": 16,
   "id": "8a384e7c-0051-446d-bc7c-1bf7bd6fd1c3",
   "metadata": {
    "tags": []
   },
   "outputs": [
    {
     "data": {
      "text/plain": [
       "'This Is Python Language'"
      ]
     },
     "execution_count": 16,
     "metadata": {},
     "output_type": "execute_result"
    }
   ],
   "source": [
    "st.title()"
   ]
  },
  {
   "cell_type": "code",
   "execution_count": 17,
   "id": "4b903c55-c025-4462-b2d3-300d54c90add",
   "metadata": {
    "tags": []
   },
   "outputs": [
    {
     "data": {
      "text/plain": [
       "'This is python language'"
      ]
     },
     "execution_count": 17,
     "metadata": {},
     "output_type": "execute_result"
    }
   ],
   "source": [
    "st.capitalize()"
   ]
  },
  {
   "cell_type": "code",
   "execution_count": 18,
   "id": "9c8f2350-4e01-40b6-b7bb-f01dd380369f",
   "metadata": {
    "tags": []
   },
   "outputs": [
    {
     "data": {
      "text/plain": [
       "False"
      ]
     },
     "execution_count": 18,
     "metadata": {},
     "output_type": "execute_result"
    }
   ],
   "source": [
    "st.isupper()"
   ]
  },
  {
   "cell_type": "code",
   "execution_count": 19,
   "id": "b85d497e-f2c3-49bd-8b67-75b44fd0d4c0",
   "metadata": {
    "tags": []
   },
   "outputs": [
    {
     "data": {
      "text/plain": [
       "False"
      ]
     },
     "execution_count": 19,
     "metadata": {},
     "output_type": "execute_result"
    }
   ],
   "source": [
    "st.islower()"
   ]
  },
  {
   "cell_type": "code",
   "execution_count": 20,
   "id": "077ccd7e-297d-4f62-921f-1d2d4faed5b7",
   "metadata": {
    "tags": []
   },
   "outputs": [
    {
     "data": {
      "text/plain": [
       "False"
      ]
     },
     "execution_count": 20,
     "metadata": {},
     "output_type": "execute_result"
    }
   ],
   "source": [
    "st.isdigit()"
   ]
  },
  {
   "cell_type": "code",
   "execution_count": 21,
   "id": "ac2ec2e9-4d1a-4f75-8cde-eb69ec340548",
   "metadata": {
    "tags": []
   },
   "outputs": [],
   "source": [
    "a = '123'"
   ]
  },
  {
   "cell_type": "code",
   "execution_count": 22,
   "id": "c9491bda-2676-49dc-9474-feceeb219a5c",
   "metadata": {
    "tags": []
   },
   "outputs": [
    {
     "data": {
      "text/plain": [
       "True"
      ]
     },
     "execution_count": 22,
     "metadata": {},
     "output_type": "execute_result"
    }
   ],
   "source": [
    "a.isdigit()"
   ]
  },
  {
   "cell_type": "code",
   "execution_count": 26,
   "id": "c64c072b-f0c7-4203-a5fe-2e97dc78f3ff",
   "metadata": {
    "tags": []
   },
   "outputs": [
    {
     "data": {
      "text/plain": [
       "True"
      ]
     },
     "execution_count": 26,
     "metadata": {},
     "output_type": "execute_result"
    }
   ],
   "source": [
    "a.isalnum()"
   ]
  },
  {
   "cell_type": "code",
   "execution_count": 35,
   "id": "ecd1b289-76ea-4e70-952d-ef5dc1af918e",
   "metadata": {
    "tags": []
   },
   "outputs": [],
   "source": [
    "b = \"ksjnfcf156156\""
   ]
  },
  {
   "cell_type": "code",
   "execution_count": 28,
   "id": "3aa1f636-a6ce-402d-bc25-62e80d893f91",
   "metadata": {
    "tags": []
   },
   "outputs": [
    {
     "data": {
      "text/plain": [
       "False"
      ]
     },
     "execution_count": 28,
     "metadata": {},
     "output_type": "execute_result"
    }
   ],
   "source": [
    "b.isalnum()"
   ]
  },
  {
   "cell_type": "code",
   "execution_count": 30,
   "id": "20d41a74-29ea-4b70-9376-5fcad381b445",
   "metadata": {
    "tags": []
   },
   "outputs": [
    {
     "data": {
      "text/plain": [
       "True"
      ]
     },
     "execution_count": 30,
     "metadata": {},
     "output_type": "execute_result"
    }
   ],
   "source": [
    "a.isnumeric()"
   ]
  },
  {
   "cell_type": "code",
   "execution_count": 31,
   "id": "29d46366-4252-4d51-a598-1a9638ee71a2",
   "metadata": {
    "tags": []
   },
   "outputs": [
    {
     "data": {
      "text/plain": [
       "'                            123                             '"
      ]
     },
     "execution_count": 31,
     "metadata": {},
     "output_type": "execute_result"
    }
   ],
   "source": [
    "a.center(60)"
   ]
  },
  {
   "cell_type": "code",
   "execution_count": 33,
   "id": "0911e879-b0e7-4ee0-af4c-9245f9e69714",
   "metadata": {
    "tags": []
   },
   "outputs": [
    {
     "data": {
      "text/plain": [
       "1"
      ]
     },
     "execution_count": 33,
     "metadata": {},
     "output_type": "execute_result"
    }
   ],
   "source": [
    "b.count('ksjnfcf156156')"
   ]
  },
  {
   "cell_type": "code",
   "execution_count": 36,
   "id": "32d07c91-0a79-4c2a-8074-7dd7de4b3ccf",
   "metadata": {
    "tags": []
   },
   "outputs": [
    {
     "data": {
      "text/plain": [
       "True"
      ]
     },
     "execution_count": 36,
     "metadata": {},
     "output_type": "execute_result"
    }
   ],
   "source": [
    "b.endswith('56')"
   ]
  },
  {
   "cell_type": "code",
   "execution_count": 37,
   "id": "345858a0-120a-49e8-9224-7226bdd44cbc",
   "metadata": {
    "tags": []
   },
   "outputs": [
    {
     "name": "stdout",
     "output_type": "stream",
     "text": [
      "Python  is  fun\n"
     ]
    }
   ],
   "source": [
    "s = \"Python\\tis\\tfun\"\n",
    "# Expanding tabs with a custom size of 4 spaces\n",
    "res = s.expandtabs(4)\n",
    "print(res)"
   ]
  },
  {
   "cell_type": "code",
   "execution_count": 38,
   "id": "83d6265c-da62-48ae-8f3d-72770d3887c5",
   "metadata": {
    "tags": []
   },
   "outputs": [
    {
     "data": {
      "text/plain": [
       "True"
      ]
     },
     "execution_count": 38,
     "metadata": {},
     "output_type": "execute_result"
    }
   ],
   "source": [
    "b.startswith('ks')"
   ]
  },
  {
   "cell_type": "code",
   "execution_count": 39,
   "id": "4905284f-d418-4e9e-a251-95af40e8523a",
   "metadata": {
    "tags": []
   },
   "outputs": [],
   "source": [
    "b = \"    jhdcfsicf kndjfv     \""
   ]
  },
  {
   "cell_type": "code",
   "execution_count": 40,
   "id": "b05676cf-f2ec-4f06-a159-c5a0bd953c08",
   "metadata": {
    "tags": []
   },
   "outputs": [
    {
     "data": {
      "text/plain": [
       "'jhdcfsicf kndjfv'"
      ]
     },
     "execution_count": 40,
     "metadata": {},
     "output_type": "execute_result"
    }
   ],
   "source": [
    "b.strip()"
   ]
  },
  {
   "cell_type": "code",
   "execution_count": 41,
   "id": "0c775321-9bd3-408a-9370-8aefe14056c1",
   "metadata": {
    "tags": []
   },
   "outputs": [
    {
     "data": {
      "text/plain": [
       "'jhdcfsicf kndjfv     '"
      ]
     },
     "execution_count": 41,
     "metadata": {},
     "output_type": "execute_result"
    }
   ],
   "source": [
    "b.lstrip()"
   ]
  },
  {
   "cell_type": "code",
   "execution_count": 42,
   "id": "71547f27-d516-4e6f-a51a-0ef773761a27",
   "metadata": {
    "tags": []
   },
   "outputs": [
    {
     "data": {
      "text/plain": [
       "'    jhdcfsicf kndjfv'"
      ]
     },
     "execution_count": 42,
     "metadata": {},
     "output_type": "execute_result"
    }
   ],
   "source": [
    "b.rstrip()"
   ]
  },
  {
   "cell_type": "code",
   "execution_count": 43,
   "id": "b66dd0a0-6547-4c22-8ef5-e12987a512e6",
   "metadata": {
    "tags": []
   },
   "outputs": [
    {
     "data": {
      "text/plain": [
       "('    jhdc', 'f', 'sicf kndjfv     ')"
      ]
     },
     "execution_count": 43,
     "metadata": {},
     "output_type": "execute_result"
    }
   ],
   "source": [
    "b.partition('f')"
   ]
  },
  {
   "cell_type": "code",
   "execution_count": 44,
   "id": "b87cebeb-d00b-4e3b-aeab-a97457370693",
   "metadata": {
    "tags": []
   },
   "outputs": [],
   "source": [
    "st = 'This is Python Language'"
   ]
  },
  {
   "cell_type": "code",
   "execution_count": 45,
   "id": "14fb7397-b2cf-43ce-bd8c-e28398c7faa6",
   "metadata": {
    "tags": []
   },
   "outputs": [
    {
     "data": {
      "text/plain": [
       "'tHIS IS pYTHON lANGUAGE'"
      ]
     },
     "execution_count": 45,
     "metadata": {},
     "output_type": "execute_result"
    }
   ],
   "source": [
    "st.swapcase()"
   ]
  },
  {
   "cell_type": "code",
   "execution_count": 46,
   "id": "26a1eb95-2648-4f59-ad2b-e7b0e8d91687",
   "metadata": {
    "tags": []
   },
   "outputs": [
    {
     "data": {
      "text/plain": [
       "False"
      ]
     },
     "execution_count": 46,
     "metadata": {},
     "output_type": "execute_result"
    }
   ],
   "source": [
    "\"hello\" == \"Hello\""
   ]
  },
  {
   "cell_type": "code",
   "execution_count": 47,
   "id": "326df571-6bde-44e0-a5e7-90ac1d9d4376",
   "metadata": {
    "tags": []
   },
   "outputs": [
    {
     "data": {
      "text/plain": [
       "True"
      ]
     },
     "execution_count": 47,
     "metadata": {},
     "output_type": "execute_result"
    }
   ],
   "source": [
    "\"hello\".casefold() == \"Hello\".casefold()"
   ]
  },
  {
   "cell_type": "code",
   "execution_count": 49,
   "id": "f3dba98f-1eae-47c1-a6c9-de878a6b5d8d",
   "metadata": {
    "tags": []
   },
   "outputs": [
    {
     "data": {
      "text/plain": [
       "8"
      ]
     },
     "execution_count": 49,
     "metadata": {},
     "output_type": "execute_result"
    }
   ],
   "source": [
    "st.index('P')"
   ]
  },
  {
   "cell_type": "code",
   "execution_count": 50,
   "id": "e580dca3-9762-4949-ae49-676bef53a487",
   "metadata": {
    "tags": []
   },
   "outputs": [
    {
     "data": {
      "text/plain": [
       "20"
      ]
     },
     "execution_count": 50,
     "metadata": {},
     "output_type": "execute_result"
    }
   ],
   "source": [
    "st.rindex('a')"
   ]
  },
  {
   "cell_type": "code",
   "execution_count": 51,
   "id": "f0762839-e326-44f3-897f-eb620faf3e48",
   "metadata": {
    "tags": []
   },
   "outputs": [
    {
     "data": {
      "text/plain": [
       "16"
      ]
     },
     "execution_count": 51,
     "metadata": {},
     "output_type": "execute_result"
    }
   ],
   "source": [
    "st.index('a')"
   ]
  },
  {
   "cell_type": "code",
   "execution_count": 52,
   "id": "6ce28815-fd11-4918-9ccc-5a7fef15d988",
   "metadata": {
    "tags": []
   },
   "outputs": [
    {
     "data": {
      "text/plain": [
       "-1"
      ]
     },
     "execution_count": 52,
     "metadata": {},
     "output_type": "execute_result"
    }
   ],
   "source": [
    "st.find('p')"
   ]
  },
  {
   "cell_type": "code",
   "execution_count": 55,
   "id": "39013b0a-db31-4c8f-880d-9dd7953a6d78",
   "metadata": {
    "tags": []
   },
   "outputs": [],
   "source": [
    "a = st.split()"
   ]
  },
  {
   "cell_type": "code",
   "execution_count": 60,
   "id": "055050e9-c8b4-44cf-90c7-4d2f466d9d4e",
   "metadata": {
    "tags": []
   },
   "outputs": [
    {
     "data": {
      "text/plain": [
       "'This is Python Language'"
      ]
     },
     "execution_count": 60,
     "metadata": {},
     "output_type": "execute_result"
    }
   ],
   "source": [
    "\" \".join(a)"
   ]
  },
  {
   "cell_type": "code",
   "execution_count": 61,
   "id": "3d92aa72-387b-41b3-90a6-9d69dd4a46ff",
   "metadata": {
    "tags": []
   },
   "outputs": [
    {
     "data": {
      "text/plain": [
       "['This', 'is', 'Python', 'Language']"
      ]
     },
     "execution_count": 61,
     "metadata": {},
     "output_type": "execute_result"
    }
   ],
   "source": [
    "a"
   ]
  },
  {
   "cell_type": "code",
   "execution_count": 62,
   "id": "392b83a0-5db2-4bf9-a896-5948a435e412",
   "metadata": {
    "tags": []
   },
   "outputs": [
    {
     "data": {
      "text/plain": [
       "'    jhdcfsicf kndjfv     '"
      ]
     },
     "execution_count": 62,
     "metadata": {},
     "output_type": "execute_result"
    }
   ],
   "source": [
    "b"
   ]
  },
  {
   "cell_type": "code",
   "execution_count": 64,
   "id": "52ecb189-ad4d-490f-9dfd-29b9c5e4e02b",
   "metadata": {
    "tags": []
   },
   "outputs": [
    {
     "data": {
      "text/plain": [
       "'    jhdcqsicq kndjfv     '"
      ]
     },
     "execution_count": 64,
     "metadata": {},
     "output_type": "execute_result"
    }
   ],
   "source": [
    "b.replace('f','q',2)"
   ]
  },
  {
   "cell_type": "code",
   "execution_count": 65,
   "id": "131b5f07-ce31-497b-8253-e903e2d27553",
   "metadata": {
    "tags": []
   },
   "outputs": [
    {
     "data": {
      "text/plain": [
       "'This is Python Language'"
      ]
     },
     "execution_count": 65,
     "metadata": {},
     "output_type": "execute_result"
    }
   ],
   "source": [
    "st"
   ]
  },
  {
   "cell_type": "code",
   "execution_count": 67,
   "id": "20287342-f402-4e8d-b499-81b0e859d22b",
   "metadata": {
    "tags": []
   },
   "outputs": [
    {
     "data": {
      "text/plain": [
       "'hsi '"
      ]
     },
     "execution_count": 67,
     "metadata": {},
     "output_type": "execute_result"
    }
   ],
   "source": [
    "st[1:8:2]"
   ]
  },
  {
   "cell_type": "code",
   "execution_count": 68,
   "id": "9ab63eb8-9444-4750-8f23-dc23eb01b80a",
   "metadata": {
    "tags": []
   },
   "outputs": [
    {
     "data": {
      "text/plain": [
       "23"
      ]
     },
     "execution_count": 68,
     "metadata": {},
     "output_type": "execute_result"
    }
   ],
   "source": [
    "len(st)"
   ]
  },
  {
   "cell_type": "code",
   "execution_count": 73,
   "id": "7ed75fe6-f100-4c1c-8a0b-71f8ebc1746b",
   "metadata": {
    "tags": []
   },
   "outputs": [
    {
     "data": {
      "text/plain": [
       "'egaugnaL nohtyP si sihT'"
      ]
     },
     "execution_count": 73,
     "metadata": {},
     "output_type": "execute_result"
    }
   ],
   "source": [
    "st[22:-24:-1]"
   ]
  },
  {
   "cell_type": "code",
   "execution_count": 74,
   "id": "7365b9cc-e274-41be-888c-dffff2fe5886",
   "metadata": {
    "tags": []
   },
   "outputs": [
    {
     "data": {
      "text/plain": [
       "'egaugnaL nohtyP si sihT'"
      ]
     },
     "execution_count": 74,
     "metadata": {},
     "output_type": "execute_result"
    }
   ],
   "source": [
    "st[::-1]"
   ]
  },
  {
   "cell_type": "code",
   "execution_count": null,
   "id": "0a17d52b-7940-4967-9dbc-5afcb55bfd31",
   "metadata": {},
   "outputs": [],
   "source": []
  }
 ],
 "metadata": {
  "kernelspec": {
   "display_name": "Python 3 (ipykernel)",
   "language": "python",
   "name": "python3"
  },
  "language_info": {
   "codemirror_mode": {
    "name": "ipython",
    "version": 3
   },
   "file_extension": ".py",
   "mimetype": "text/x-python",
   "name": "python",
   "nbconvert_exporter": "python",
   "pygments_lexer": "ipython3",
   "version": "3.11.5"
  }
 },
 "nbformat": 4,
 "nbformat_minor": 5
}
