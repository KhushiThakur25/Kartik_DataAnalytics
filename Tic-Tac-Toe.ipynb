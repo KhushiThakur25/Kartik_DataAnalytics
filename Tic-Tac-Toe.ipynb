{
 "cells": [
  {
   "cell_type": "code",
   "execution_count": 7,
   "id": "db38b5b8-40f0-4a93-8de1-4b23b7ff3852",
   "metadata": {
    "tags": []
   },
   "outputs": [],
   "source": [
    "import random\n",
    "positions = [\" \" for i in range(1,10)]\n",
    "occupied = []\n",
    "def gameBoard():\n",
    "    print(\"\"\"\n",
    "    {} | {} | {}\n",
    "    ----------\n",
    "    {} | {} | {}\n",
    "    ----------\n",
    "    {} | {} | {}\n",
    "    \"\"\".format(positions[0],positions[1],positions[2],\n",
    "              positions[3],positions[4],positions[5],\n",
    "              positions[6],positions[7],positions[8],))\n",
    "    \n",
    "def checkWinner():\n",
    "    winning_combinations = [(0,1,2),(3,4,5),(6,7,8),(0,4,8),(2,4,6),(0,3,6),(1,4,7),(2,5,8)]\n",
    "    for combo in winning_combinations:\n",
    "        if positions[combo[0]] == positions[combo[1]] == positions[combo[2]] != \" \":\n",
    "            return positions[combo[0]]\n",
    "            \n",
    "    \n",
    "def user_fun(ch):\n",
    "    pos = int(input(\"Enter position to move..\"))\n",
    "    if pos in occupied:\n",
    "        print(\"You can't move here ..\")\n",
    "        user_fun(ch)\n",
    "    else:\n",
    "        positions[pos-1] = ch\n",
    "        occupied.append(pos)\n",
    "    \n",
    "def cpu_fun(ch):\n",
    "    pos = random.randint(1,9)\n",
    "    if pos in occupied:\n",
    "        cpu_fun(ch)\n",
    "    else:\n",
    "        positions[pos-1] = ch\n",
    "        occupied.append(pos)\n",
    "        \n",
    "def main():\n",
    "    user = input(\"Enter your choice..X or 0\").upper()\n",
    "    while user not in ['X','0']:\n",
    "        print(\"Invalid choice ! do again..\")\n",
    "        user = input(\"Enter your choice..X or 0\").upper()\n",
    "    if user == 'X':\n",
    "        cpu = '0'\n",
    "    else:\n",
    "        cpu = 'X'\n",
    "    count = 0\n",
    "    winner = None\n",
    "    gameBoard()\n",
    "    while count < 5 and not winner:\n",
    "        count += 1\n",
    "        user_fun(user)\n",
    "        gameBoard()\n",
    "        winner = checkWinner()\n",
    "        if winner:\n",
    "            print(f\"{winner}, congratulation! you win...\")\n",
    "            break\n",
    "        if count == 5:\n",
    "            print(\"It's draw\")\n",
    "            break\n",
    "        cpu_fun(cpu)\n",
    "        gameBoard()\n",
    "        winner = checkWinner()\n",
    "        if winner:\n",
    "            print(f\"{winner} ! congratulation! you win...\")\n",
    "            break\n",
    "        \n",
    "            \n",
    "        \n",
    "    "
   ]
  },
  {
   "cell_type": "code",
   "execution_count": 8,
   "id": "b0996eb7-7870-448d-88fd-75b2def9e65e",
   "metadata": {
    "tags": []
   },
   "outputs": [
    {
     "name": "stdin",
     "output_type": "stream",
     "text": [
      "Enter your choice..X or 0 x\n"
     ]
    },
    {
     "name": "stdout",
     "output_type": "stream",
     "text": [
      "\n",
      "      |   |  \n",
      "    ----------\n",
      "      |   |  \n",
      "    ----------\n",
      "      |   |  \n",
      "    \n"
     ]
    },
    {
     "name": "stdin",
     "output_type": "stream",
     "text": [
      "Enter position to move.. 5\n"
     ]
    },
    {
     "name": "stdout",
     "output_type": "stream",
     "text": [
      "\n",
      "      |   |  \n",
      "    ----------\n",
      "      | X |  \n",
      "    ----------\n",
      "      |   |  \n",
      "    \n",
      "\n",
      "      |   |  \n",
      "    ----------\n",
      "      | X |  \n",
      "    ----------\n",
      "      |   | 0\n",
      "    \n"
     ]
    },
    {
     "name": "stdin",
     "output_type": "stream",
     "text": [
      "Enter position to move.. 3\n"
     ]
    },
    {
     "name": "stdout",
     "output_type": "stream",
     "text": [
      "\n",
      "      |   | X\n",
      "    ----------\n",
      "      | X |  \n",
      "    ----------\n",
      "      |   | 0\n",
      "    \n",
      "\n",
      "      |   | X\n",
      "    ----------\n",
      "    0 | X |  \n",
      "    ----------\n",
      "      |   | 0\n",
      "    \n"
     ]
    },
    {
     "name": "stdin",
     "output_type": "stream",
     "text": [
      "Enter position to move.. 7\n"
     ]
    },
    {
     "name": "stdout",
     "output_type": "stream",
     "text": [
      "\n",
      "      |   | X\n",
      "    ----------\n",
      "    0 | X |  \n",
      "    ----------\n",
      "    X |   | 0\n",
      "    \n",
      "X, congratulation! you win...\n"
     ]
    }
   ],
   "source": [
    "main()"
   ]
  },
  {
   "cell_type": "code",
   "execution_count": null,
   "id": "bbe88699-4b6e-4d9d-af57-a2e9fb1eb470",
   "metadata": {},
   "outputs": [],
   "source": []
  }
 ],
 "metadata": {
  "kernelspec": {
   "display_name": "Python 3 (ipykernel)",
   "language": "python",
   "name": "python3"
  },
  "language_info": {
   "codemirror_mode": {
    "name": "ipython",
    "version": 3
   },
   "file_extension": ".py",
   "mimetype": "text/x-python",
   "name": "python",
   "nbconvert_exporter": "python",
   "pygments_lexer": "ipython3",
   "version": "3.11.5"
  }
 },
 "nbformat": 4,
 "nbformat_minor": 5
}
