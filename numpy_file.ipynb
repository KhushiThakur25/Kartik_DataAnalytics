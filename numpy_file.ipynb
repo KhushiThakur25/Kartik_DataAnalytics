{
 "cells": [
  {
   "cell_type": "code",
   "execution_count": 1,
   "id": "6f657043-e38d-4397-91bf-230c0bb73d45",
   "metadata": {
    "tags": []
   },
   "outputs": [],
   "source": [
    "\n",
    "import numpy as np\n",
    "import sys\n",
    "import time"
   ]
  },
  {
   "cell_type": "code",
   "execution_count": 3,
   "id": "c7d4e64a-4407-4c97-8eed-57b17cfa1b75",
   "metadata": {
    "tags": []
   },
   "outputs": [
    {
     "data": {
      "text/plain": [
       "array([[4.9e-324, 9.9e-324, 1.5e-323],\n",
       "       [2.2e-322, 3.0e-323, 2.9e-322]])"
      ]
     },
     "execution_count": 3,
     "metadata": {},
     "output_type": "execute_result"
    }
   ],
   "source": [
    "arr = np.array([1,2,3,45,6,59])\n",
    "a = np.empty((2,3))\n",
    "a"
   ]
  },
  {
   "cell_type": "code",
   "execution_count": 19,
   "id": "1ae46ec5-7f54-43be-b108-99b9cd030d8c",
   "metadata": {
    "tags": []
   },
   "outputs": [
    {
     "data": {
      "text/plain": [
       "89095160"
      ]
     },
     "execution_count": 19,
     "metadata": {},
     "output_type": "execute_result"
    }
   ],
   "source": [
    "\n",
    "li = [i for i in range(1,10000000)]\n",
    "arr1 = np.array(li)\n",
    "sys.getsizeof(li)"
   ]
  },
  {
   "cell_type": "code",
   "execution_count": 9,
   "id": "f34fba1a-cbf5-4b66-b8a3-0a06cf93a177",
   "metadata": {
    "tags": []
   },
   "outputs": [
    {
     "data": {
      "text/plain": [
       "144"
      ]
     },
     "execution_count": 9,
     "metadata": {},
     "output_type": "execute_result"
    }
   ],
   "source": [
    "#sizechart for array in  numpy\n",
    "sys.getsizeof(np.array([1,2,3,4]))\n",
    "#0 - 112\n",
    "#1 - 120\n",
    "#2 - 128\n",
    "\n",
    "#80000104\n"
   ]
  },
  {
   "cell_type": "code",
   "execution_count": 17,
   "id": "f7c45082-96c0-4453-b424-598ab42c71ee",
   "metadata": {
    "tags": []
   },
   "outputs": [
    {
     "data": {
      "text/plain": [
       "10.666666666666666"
      ]
     },
     "execution_count": 17,
     "metadata": {},
     "output_type": "execute_result"
    }
   ],
   "source": [
    "#sizechart for list in python\n",
    "sys.getsizeof([1,2,3])\n",
    "#0 - 56\n",
    "#1 - 64\n",
    "#2 - 72\n",
    "# 16 - 8 B\n",
    "#89095160\n",
    "(88-56)/3"
   ]
  },
  {
   "cell_type": "code",
   "execution_count": 20,
   "id": "35e63f33-187b-4149-8031-11a472b0150c",
   "metadata": {
    "tags": []
   },
   "outputs": [
    {
     "data": {
      "text/plain": [
       "2.648948907852173"
      ]
     },
     "execution_count": 20,
     "metadata": {},
     "output_type": "execute_result"
    }
   ],
   "source": [
    "list1 = [i for i in range(1,10000000)]\n",
    "list2 = [i for i in range(1,10000000)]\n",
    "list3 = [0 for i in range(1,10000000)]\n",
    "start = time.time()\n",
    "for i in range(len(list1)):\n",
    "    list3[i] = list1[i] + list2[i]\n",
    "\n",
    "end = time.time()\n",
    "total = end - start\n",
    "total"
   ]
  },
  {
   "cell_type": "code",
   "execution_count": 21,
   "id": "e0d9fa81-037c-4392-aad8-761c3a972cef",
   "metadata": {
    "tags": []
   },
   "outputs": [
    {
     "data": {
      "text/plain": [
       "0.08263158798217773"
      ]
     },
     "execution_count": 21,
     "metadata": {},
     "output_type": "execute_result"
    }
   ],
   "source": [
    "arr1 = np.array(list1)\n",
    "arr2 = np.array(list2)\n",
    "start = time.time()\n",
    "arr3 = arr1 + arr2\n",
    "\n",
    "end = time.time()\n",
    "total = end - start\n",
    "total"
   ]
  },
  {
   "cell_type": "code",
   "execution_count": 8,
   "id": "ef59e929-1a2d-4b1f-bf00-797c6e0b3d4c",
   "metadata": {
    "tags": []
   },
   "outputs": [
    {
     "data": {
      "text/plain": [
       "array([1, 3, 5, 7, 9])"
      ]
     },
     "execution_count": 8,
     "metadata": {},
     "output_type": "execute_result"
    }
   ],
   "source": [
    "arr = np.arange(1,10,2)\n",
    "arr"
   ]
  },
  {
   "cell_type": "code",
   "execution_count": 11,
   "id": "27f1fabd-3e2c-462c-a22b-a5638de0fc2a",
   "metadata": {
    "tags": []
   },
   "outputs": [
    {
     "data": {
      "text/plain": [
       "array([ 1.        ,  1.18367347,  1.36734694,  1.55102041,  1.73469388,\n",
       "        1.91836735,  2.10204082,  2.28571429,  2.46938776,  2.65306122,\n",
       "        2.83673469,  3.02040816,  3.20408163,  3.3877551 ,  3.57142857,\n",
       "        3.75510204,  3.93877551,  4.12244898,  4.30612245,  4.48979592,\n",
       "        4.67346939,  4.85714286,  5.04081633,  5.2244898 ,  5.40816327,\n",
       "        5.59183673,  5.7755102 ,  5.95918367,  6.14285714,  6.32653061,\n",
       "        6.51020408,  6.69387755,  6.87755102,  7.06122449,  7.24489796,\n",
       "        7.42857143,  7.6122449 ,  7.79591837,  7.97959184,  8.16326531,\n",
       "        8.34693878,  8.53061224,  8.71428571,  8.89795918,  9.08163265,\n",
       "        9.26530612,  9.44897959,  9.63265306,  9.81632653, 10.        ])"
      ]
     },
     "execution_count": 11,
     "metadata": {},
     "output_type": "execute_result"
    }
   ],
   "source": [
    "arr = np.linspace(1,10,50)\n",
    "arr"
   ]
  },
  {
   "cell_type": "code",
   "execution_count": 31,
   "id": "4c659ae7-3e92-4d5d-bc23-6c6bc0260cad",
   "metadata": {
    "tags": []
   },
   "outputs": [],
   "source": [
    "import random\n",
    "np.random.seed(5)\n",
    "arr = np.random.randint(1,10,5)"
   ]
  },
  {
   "cell_type": "code",
   "execution_count": 2,
   "id": "951e41a4-9f68-4074-8ab1-b311a527aafd",
   "metadata": {
    "tags": []
   },
   "outputs": [
    {
     "data": {
      "text/plain": [
       "3.141592653589793"
      ]
     },
     "execution_count": 2,
     "metadata": {},
     "output_type": "execute_result"
    }
   ],
   "source": [
    "np.pi"
   ]
  },
  {
   "cell_type": "code",
   "execution_count": 3,
   "id": "f5397065-b784-4d83-90d3-da20ba5637d4",
   "metadata": {},
   "outputs": [],
   "source": [
    "angles = np.array([0,np.pi/2,np.pi,np.pi/4])"
   ]
  },
  {
   "cell_type": "code",
   "execution_count": 4,
   "id": "b20c458b-9e80-4a09-9949-1b63488495fc",
   "metadata": {
    "tags": []
   },
   "outputs": [
    {
     "data": {
      "text/plain": [
       "array([0.00000000e+00, 1.00000000e+00, 1.22464680e-16, 7.07106781e-01])"
      ]
     },
     "execution_count": 4,
     "metadata": {},
     "output_type": "execute_result"
    }
   ],
   "source": [
    "np.sin(angles)"
   ]
  },
  {
   "cell_type": "code",
   "execution_count": 5,
   "id": "4980b17c-10c1-466a-8798-002d12440b79",
   "metadata": {
    "tags": []
   },
   "outputs": [
    {
     "data": {
      "text/plain": [
       "array([ 1.00000000e+00,  6.12323400e-17, -1.00000000e+00,  7.07106781e-01])"
      ]
     },
     "execution_count": 5,
     "metadata": {},
     "output_type": "execute_result"
    }
   ],
   "source": [
    "np.cos(angles)"
   ]
  },
  {
   "cell_type": "code",
   "execution_count": 6,
   "id": "5a86ec9c-9057-4dc2-8921-da44d17015dd",
   "metadata": {
    "tags": []
   },
   "outputs": [
    {
     "data": {
      "text/plain": [
       "array([ 0.00000000e+00,  1.63312394e+16, -1.22464680e-16,  1.00000000e+00])"
      ]
     },
     "execution_count": 6,
     "metadata": {},
     "output_type": "execute_result"
    }
   ],
   "source": [
    "np.tan(angles)"
   ]
  },
  {
   "cell_type": "code",
   "execution_count": 5,
   "id": "9b3fd55f-d9ef-483f-8956-7daa4be0ea36",
   "metadata": {
    "tags": []
   },
   "outputs": [
    {
     "data": {
      "text/plain": [
       "array([[ 1,  2,  3],\n",
       "       [54,  5,  6]])"
      ]
     },
     "execution_count": 5,
     "metadata": {},
     "output_type": "execute_result"
    }
   ],
   "source": [
    "arr = np.array([[1,2,3],[4,5,6]])\n",
    "flt_arr = np.ravel(arr)\n",
    "flt_arr[3] = 54\n",
    "flt_arr\n",
    "arr"
   ]
  },
  {
   "cell_type": "code",
   "execution_count": 17,
   "id": "ff38e7cd-dc63-44ad-bd05-e56f8fe3cf7d",
   "metadata": {
    "tags": []
   },
   "outputs": [
    {
     "data": {
      "text/plain": [
       "array([[ 1,  2,  3],\n",
       "       [54,  5,  6]])"
      ]
     },
     "execution_count": 17,
     "metadata": {},
     "output_type": "execute_result"
    }
   ],
   "source": [
    "arr1 = arr.flatten()\n",
    "arr1[3] = 24\n",
    "arr"
   ]
  },
  {
   "cell_type": "code",
   "execution_count": 10,
   "id": "a675e4a1-3341-40af-bd5e-a4d5d43dc96e",
   "metadata": {
    "tags": []
   },
   "outputs": [
    {
     "data": {
      "text/plain": [
       "array([[1, 2, 3],\n",
       "       [4, 5, 6]])"
      ]
     },
     "execution_count": 10,
     "metadata": {},
     "output_type": "execute_result"
    }
   ],
   "source": [
    "arr"
   ]
  },
  {
   "cell_type": "code",
   "execution_count": 19,
   "id": "e6cbddae-93ba-4755-80ee-fe3fab3c3f18",
   "metadata": {
    "tags": []
   },
   "outputs": [
    {
     "data": {
      "text/plain": [
       "array([[ 1,  2,  3],\n",
       "       [45,  6,  5],\n",
       "       [ 1,  4,  9]])"
      ]
     },
     "execution_count": 19,
     "metadata": {},
     "output_type": "execute_result"
    }
   ],
   "source": [
    "arr = np.array([1,2,3,45,6,5,1,4,9])\n",
    "re_arr = np.reshape(arr,(3,3))\n",
    "re_arr"
   ]
  },
  {
   "cell_type": "code",
   "execution_count": 20,
   "id": "a4efc0c2-ed71-4073-b828-86f8df13c67e",
   "metadata": {
    "tags": []
   },
   "outputs": [
    {
     "data": {
      "text/plain": [
       "array([[1, 4],\n",
       "       [2, 5],\n",
       "       [3, 6]])"
      ]
     },
     "execution_count": 20,
     "metadata": {},
     "output_type": "execute_result"
    }
   ],
   "source": [
    "arr = np.array([[1,2,3],[4,5,6]])\n",
    "arr.transpose()"
   ]
  },
  {
   "cell_type": "code",
   "execution_count": 22,
   "id": "c41c77b4-6f6f-4d4c-8533-97ed732e7612",
   "metadata": {
    "tags": []
   },
   "outputs": [
    {
     "name": "stdout",
     "output_type": "stream",
     "text": [
      "[[1 2 3]\n",
      " [4 5 6]\n",
      " [7 8 9]\n",
      " [1 2 3]]\n"
     ]
    }
   ],
   "source": [
    "arr = np.array([[1,2,3],[4,5,6]])\n",
    "arr1 = np.array([[7,8,9],[1,2,3]])\n",
    "print(np.concatenate((arr,arr1)))"
   ]
  },
  {
   "cell_type": "code",
   "execution_count": 24,
   "id": "474a9a26-cbfd-44dc-a12e-135e38882af0",
   "metadata": {
    "tags": []
   },
   "outputs": [
    {
     "data": {
      "text/plain": [
       "array([[[1, 2, 3],\n",
       "        [4, 5, 6]],\n",
       "\n",
       "       [[7, 8, 9],\n",
       "        [1, 2, 3]]])"
      ]
     },
     "execution_count": 24,
     "metadata": {},
     "output_type": "execute_result"
    }
   ],
   "source": [
    "np.stack((arr,arr1))"
   ]
  },
  {
   "cell_type": "code",
   "execution_count": 29,
   "id": "1809cbca-0a96-4bfa-a5fb-4c4b7ba718b5",
   "metadata": {
    "tags": []
   },
   "outputs": [
    {
     "data": {
      "text/plain": [
       "[array([ 1,  2,  3, 45,  6,  5,  1,  4])]"
      ]
     },
     "execution_count": 29,
     "metadata": {},
     "output_type": "execute_result"
    }
   ],
   "source": [
    "arr = np.array([1,2,3,45,6,5,1,4])\n",
    "np.split(arr,1)"
   ]
  },
  {
   "cell_type": "code",
   "execution_count": 10,
   "id": "3e4955c1-8ccc-4368-84c0-cb3144cad603",
   "metadata": {},
   "outputs": [],
   "source": [
    "arr = np.array([[1,2,3],[4,5,6],[7,8,9]])"
   ]
  },
  {
   "cell_type": "code",
   "execution_count": 5,
   "id": "60185e45-d631-4fa1-a112-f247846aa2da",
   "metadata": {
    "tags": []
   },
   "outputs": [
    {
     "data": {
      "text/plain": [
       "array([[1, 2, 3],\n",
       "       [4, 5, 6],\n",
       "       [7, 8, 9]])"
      ]
     },
     "execution_count": 5,
     "metadata": {},
     "output_type": "execute_result"
    }
   ],
   "source": [
    "arr"
   ]
  },
  {
   "cell_type": "code",
   "execution_count": 6,
   "id": "675a5ee4-7e20-4f1a-a931-eaad97afdbb8",
   "metadata": {
    "tags": []
   },
   "outputs": [
    {
     "data": {
      "text/plain": [
       "array([[4, 5],\n",
       "       [7, 8]])"
      ]
     },
     "execution_count": 6,
     "metadata": {},
     "output_type": "execute_result"
    }
   ],
   "source": [
    "arr[1:,:2]"
   ]
  },
  {
   "cell_type": "code",
   "execution_count": 7,
   "id": "5cce832e-72f9-4f4f-8119-f80ec10e3715",
   "metadata": {
    "tags": []
   },
   "outputs": [
    {
     "data": {
      "text/plain": [
       "array([[1, 4, 7],\n",
       "       [2, 5, 8],\n",
       "       [3, 6, 9]])"
      ]
     },
     "execution_count": 7,
     "metadata": {},
     "output_type": "execute_result"
    }
   ],
   "source": [
    "np.transpose(arr)"
   ]
  },
  {
   "cell_type": "code",
   "execution_count": 14,
   "id": "73fcdaa4-cd82-4761-8eff-ad6e30a45f70",
   "metadata": {
    "tags": []
   },
   "outputs": [
    {
     "data": {
      "text/plain": [
       "array([[-1.5 ,  0.5 ],\n",
       "       [ 1.25, -0.25]])"
      ]
     },
     "execution_count": 14,
     "metadata": {},
     "output_type": "execute_result"
    }
   ],
   "source": [
    "np.linalg.inv([[1,2],[5,6]])"
   ]
  },
  {
   "cell_type": "code",
   "execution_count": null,
   "id": "56250f23-9ec5-490f-bae5-79cd20a346be",
   "metadata": {},
   "outputs": [],
   "source": []
  }
 ],
 "metadata": {
  "kernelspec": {
   "display_name": "Python 3 (ipykernel)",
   "language": "python",
   "name": "python3"
  },
  "language_info": {
   "codemirror_mode": {
    "name": "ipython",
    "version": 3
   },
   "file_extension": ".py",
   "mimetype": "text/x-python",
   "name": "python",
   "nbconvert_exporter": "python",
   "pygments_lexer": "ipython3",
   "version": "3.11.5"
  }
 },
 "nbformat": 4,
 "nbformat_minor": 5
}
